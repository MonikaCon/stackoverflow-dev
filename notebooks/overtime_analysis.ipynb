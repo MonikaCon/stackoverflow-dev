{
 "cells": [
  {
   "cell_type": "code",
   "execution_count": 1,
   "id": "angry-genesis",
   "metadata": {},
   "outputs": [],
   "source": [
    "import pandas as pd\n",
    "import numpy as np\n",
    "import matplotlib.pyplot as plt"
   ]
  },
  {
   "cell_type": "code",
   "execution_count": 2,
   "id": "outstanding-rally",
   "metadata": {},
   "outputs": [],
   "source": [
    "%matplotlib inline"
   ]
  },
  {
   "cell_type": "code",
   "execution_count": 3,
   "id": "opposite-external",
   "metadata": {},
   "outputs": [
    {
     "data": {
      "application/javascript": [
       "\n",
       "            setTimeout(function() {\n",
       "                var nbb_cell_id = 3;\n",
       "                var nbb_unformatted_code = \"%load_ext pycodestyle_magic\\n%pycodestyle_on\\n%load_ext nb_black\";\n",
       "                var nbb_formatted_code = \"%load_ext pycodestyle_magic\\n%pycodestyle_on\\n%load_ext nb_black\";\n",
       "                var nbb_cells = Jupyter.notebook.get_cells();\n",
       "                for (var i = 0; i < nbb_cells.length; ++i) {\n",
       "                    if (nbb_cells[i].input_prompt_number == nbb_cell_id) {\n",
       "                        if (nbb_cells[i].get_text() == nbb_unformatted_code) {\n",
       "                             nbb_cells[i].set_text(nbb_formatted_code);\n",
       "                        }\n",
       "                        break;\n",
       "                    }\n",
       "                }\n",
       "            }, 500);\n",
       "            "
      ],
      "text/plain": [
       "<IPython.core.display.Javascript object>"
      ]
     },
     "metadata": {},
     "output_type": "display_data"
    }
   ],
   "source": [
    "%load_ext pycodestyle_magic\n",
    "%pycodestyle_on\n",
    "%load_ext nb_black"
   ]
  },
  {
   "cell_type": "code",
   "execution_count": 4,
   "id": "spectacular-brand",
   "metadata": {},
   "outputs": [
    {
     "data": {
      "application/javascript": [
       "\n",
       "            setTimeout(function() {\n",
       "                var nbb_cell_id = 4;\n",
       "                var nbb_unformatted_code = \"df = pd.read_csv(\\\"./data/developer_survey_2020/survey_results_public.csv\\\")\";\n",
       "                var nbb_formatted_code = \"df = pd.read_csv(\\\"./data/developer_survey_2020/survey_results_public.csv\\\")\";\n",
       "                var nbb_cells = Jupyter.notebook.get_cells();\n",
       "                for (var i = 0; i < nbb_cells.length; ++i) {\n",
       "                    if (nbb_cells[i].input_prompt_number == nbb_cell_id) {\n",
       "                        if (nbb_cells[i].get_text() == nbb_unformatted_code) {\n",
       "                             nbb_cells[i].set_text(nbb_formatted_code);\n",
       "                        }\n",
       "                        break;\n",
       "                    }\n",
       "                }\n",
       "            }, 500);\n",
       "            "
      ],
      "text/plain": [
       "<IPython.core.display.Javascript object>"
      ]
     },
     "metadata": {},
     "output_type": "display_data"
    }
   ],
   "source": [
    "df = pd.read_csv(\"./data/developer_survey_2020/survey_results_public.csv\")"
   ]
  },
  {
   "cell_type": "code",
   "execution_count": 5,
   "id": "given-password",
   "metadata": {},
   "outputs": [
    {
     "data": {
      "application/javascript": [
       "\n",
       "            setTimeout(function() {\n",
       "                var nbb_cell_id = 5;\n",
       "                var nbb_unformatted_code = \"schema = pd.read_csv(\\\"./data/developer_survey_2020/survey_results_schema.csv\\\")\";\n",
       "                var nbb_formatted_code = \"schema = pd.read_csv(\\\"./data/developer_survey_2020/survey_results_schema.csv\\\")\";\n",
       "                var nbb_cells = Jupyter.notebook.get_cells();\n",
       "                for (var i = 0; i < nbb_cells.length; ++i) {\n",
       "                    if (nbb_cells[i].input_prompt_number == nbb_cell_id) {\n",
       "                        if (nbb_cells[i].get_text() == nbb_unformatted_code) {\n",
       "                             nbb_cells[i].set_text(nbb_formatted_code);\n",
       "                        }\n",
       "                        break;\n",
       "                    }\n",
       "                }\n",
       "            }, 500);\n",
       "            "
      ],
      "text/plain": [
       "<IPython.core.display.Javascript object>"
      ]
     },
     "metadata": {},
     "output_type": "display_data"
    }
   ],
   "source": [
    "schema = pd.read_csv(\"./data/developer_survey_2020/survey_results_schema.csv\")"
   ]
  },
  {
   "cell_type": "code",
   "execution_count": 6,
   "id": "random-louisiana",
   "metadata": {},
   "outputs": [
    {
     "data": {
      "text/html": [
       "<div>\n",
       "<style scoped>\n",
       "    .dataframe tbody tr th:only-of-type {\n",
       "        vertical-align: middle;\n",
       "    }\n",
       "\n",
       "    .dataframe tbody tr th {\n",
       "        vertical-align: top;\n",
       "    }\n",
       "\n",
       "    .dataframe thead th {\n",
       "        text-align: right;\n",
       "    }\n",
       "</style>\n",
       "<table border=\"1\" class=\"dataframe\">\n",
       "  <thead>\n",
       "    <tr style=\"text-align: right;\">\n",
       "      <th></th>\n",
       "      <th>Respondent</th>\n",
       "      <th>Age</th>\n",
       "      <th>CompTotal</th>\n",
       "      <th>ConvertedComp</th>\n",
       "      <th>WorkWeekHrs</th>\n",
       "    </tr>\n",
       "  </thead>\n",
       "  <tbody>\n",
       "    <tr>\n",
       "      <th>count</th>\n",
       "      <td>64461.000000</td>\n",
       "      <td>45446.000000</td>\n",
       "      <td>3.482600e+04</td>\n",
       "      <td>3.475600e+04</td>\n",
       "      <td>41151.000000</td>\n",
       "    </tr>\n",
       "    <tr>\n",
       "      <th>mean</th>\n",
       "      <td>32554.079738</td>\n",
       "      <td>30.834111</td>\n",
       "      <td>3.190464e+242</td>\n",
       "      <td>1.037561e+05</td>\n",
       "      <td>40.782174</td>\n",
       "    </tr>\n",
       "    <tr>\n",
       "      <th>std</th>\n",
       "      <td>18967.442360</td>\n",
       "      <td>9.585392</td>\n",
       "      <td>inf</td>\n",
       "      <td>2.268853e+05</td>\n",
       "      <td>17.816383</td>\n",
       "    </tr>\n",
       "    <tr>\n",
       "      <th>min</th>\n",
       "      <td>1.000000</td>\n",
       "      <td>1.000000</td>\n",
       "      <td>0.000000e+00</td>\n",
       "      <td>0.000000e+00</td>\n",
       "      <td>1.000000</td>\n",
       "    </tr>\n",
       "    <tr>\n",
       "      <th>25%</th>\n",
       "      <td>16116.000000</td>\n",
       "      <td>24.000000</td>\n",
       "      <td>2.000000e+04</td>\n",
       "      <td>2.464800e+04</td>\n",
       "      <td>40.000000</td>\n",
       "    </tr>\n",
       "    <tr>\n",
       "      <th>50%</th>\n",
       "      <td>32231.000000</td>\n",
       "      <td>29.000000</td>\n",
       "      <td>6.300000e+04</td>\n",
       "      <td>5.404900e+04</td>\n",
       "      <td>40.000000</td>\n",
       "    </tr>\n",
       "    <tr>\n",
       "      <th>75%</th>\n",
       "      <td>49142.000000</td>\n",
       "      <td>35.000000</td>\n",
       "      <td>1.250000e+05</td>\n",
       "      <td>9.500000e+04</td>\n",
       "      <td>44.000000</td>\n",
       "    </tr>\n",
       "    <tr>\n",
       "      <th>max</th>\n",
       "      <td>65639.000000</td>\n",
       "      <td>279.000000</td>\n",
       "      <td>1.111111e+247</td>\n",
       "      <td>2.000000e+06</td>\n",
       "      <td>475.000000</td>\n",
       "    </tr>\n",
       "  </tbody>\n",
       "</table>\n",
       "</div>"
      ],
      "text/plain": [
       "         Respondent           Age      CompTotal  ConvertedComp   WorkWeekHrs\n",
       "count  64461.000000  45446.000000   3.482600e+04   3.475600e+04  41151.000000\n",
       "mean   32554.079738     30.834111  3.190464e+242   1.037561e+05     40.782174\n",
       "std    18967.442360      9.585392            inf   2.268853e+05     17.816383\n",
       "min        1.000000      1.000000   0.000000e+00   0.000000e+00      1.000000\n",
       "25%    16116.000000     24.000000   2.000000e+04   2.464800e+04     40.000000\n",
       "50%    32231.000000     29.000000   6.300000e+04   5.404900e+04     40.000000\n",
       "75%    49142.000000     35.000000   1.250000e+05   9.500000e+04     44.000000\n",
       "max    65639.000000    279.000000  1.111111e+247   2.000000e+06    475.000000"
      ]
     },
     "execution_count": 6,
     "metadata": {},
     "output_type": "execute_result"
    },
    {
     "data": {
      "application/javascript": [
       "\n",
       "            setTimeout(function() {\n",
       "                var nbb_cell_id = 6;\n",
       "                var nbb_unformatted_code = \"# Understand numeric data distribution\\ndf.describe()\";\n",
       "                var nbb_formatted_code = \"# Understand numeric data distribution\\ndf.describe()\";\n",
       "                var nbb_cells = Jupyter.notebook.get_cells();\n",
       "                for (var i = 0; i < nbb_cells.length; ++i) {\n",
       "                    if (nbb_cells[i].input_prompt_number == nbb_cell_id) {\n",
       "                        if (nbb_cells[i].get_text() == nbb_unformatted_code) {\n",
       "                             nbb_cells[i].set_text(nbb_formatted_code);\n",
       "                        }\n",
       "                        break;\n",
       "                    }\n",
       "                }\n",
       "            }, 500);\n",
       "            "
      ],
      "text/plain": [
       "<IPython.core.display.Javascript object>"
      ]
     },
     "metadata": {},
     "output_type": "display_data"
    }
   ],
   "source": [
    "# Understand numeric data distribution\n",
    "df.describe()"
   ]
  },
  {
   "cell_type": "code",
   "execution_count": 7,
   "id": "fluid-cotton",
   "metadata": {},
   "outputs": [
    {
     "data": {
      "text/plain": [
       "array([[<AxesSubplot:title={'center':'Age'}>,\n",
       "        <AxesSubplot:title={'center':'CompTotal'}>],\n",
       "       [<AxesSubplot:title={'center':'ConvertedComp'}>,\n",
       "        <AxesSubplot:title={'center':'WorkWeekHrs'}>]], dtype=object)"
      ]
     },
     "execution_count": 7,
     "metadata": {},
     "output_type": "execute_result"
    },
    {
     "data": {
      "image/png": "[encoded data removed]",
      "text/plain": [
       "<Figure size 432x288 with 4 Axes>"
      ]
     },
     "metadata": {
      "needs_background": "light"
     },
     "output_type": "display_data"
    },
    {
     "data": {
      "application/javascript": [
       "\n",
       "            setTimeout(function() {\n",
       "                var nbb_cell_id = 7;\n",
       "                var nbb_unformatted_code = \"# Quick histogram to check the distribution of numeric features\\ndf[[\\\"Age\\\", \\\"CompTotal\\\", \\\"ConvertedComp\\\", \\\"WorkWeekHrs\\\"]].hist()\";\n",
       "                var nbb_formatted_code = \"# Quick histogram to check the distribution of numeric features\\ndf[[\\\"Age\\\", \\\"CompTotal\\\", \\\"ConvertedComp\\\", \\\"WorkWeekHrs\\\"]].hist()\";\n",
       "                var nbb_cells = Jupyter.notebook.get_cells();\n",
       "                for (var i = 0; i < nbb_cells.length; ++i) {\n",
       "                    if (nbb_cells[i].input_prompt_number == nbb_cell_id) {\n",
       "                        if (nbb_cells[i].get_text() == nbb_unformatted_code) {\n",
       "                             nbb_cells[i].set_text(nbb_formatted_code);\n",
       "                        }\n",
       "                        break;\n",
       "                    }\n",
       "                }\n",
       "            }, 500);\n",
       "            "
      ],
      "text/plain": [
       "<IPython.core.display.Javascript object>"
      ]
     },
     "metadata": {},
     "output_type": "display_data"
    }
   ],
   "source": [
    "# Quick histogram to check the distribution of numeric features\n",
    "df[[\"Age\", \"CompTotal\", \"ConvertedComp\", \"WorkWeekHrs\"]].hist()"
   ]
  },
  {
   "cell_type": "markdown",
   "id": "affecting-version",
   "metadata": {},
   "source": [
    "We are interested in looking at NEWOvertime feature in the dataset which describe how frequently people do overtime."
   ]
  },
  {
   "cell_type": "code",
   "execution_count": 8,
   "id": "objective-cathedral",
   "metadata": {},
   "outputs": [
    {
     "data": {
      "text/plain": [
       "array(['Often: 1-2 days per week or more', nan,\n",
       "       'Occasionally: 1-2 days per quarter but less than monthly',\n",
       "       'Never', 'Sometimes: 1-2 days per month but less than weekly',\n",
       "       'Rarely: 1-2 days per year or less'], dtype=object)"
      ]
     },
     "execution_count": 8,
     "metadata": {},
     "output_type": "execute_result"
    },
    {
     "data": {
      "application/javascript": [
       "\n",
       "            setTimeout(function() {\n",
       "                var nbb_cell_id = 8;\n",
       "                var nbb_unformatted_code = \"# unique overitmes\\ndf[\\\"NEWOvertime\\\"].unique()\";\n",
       "                var nbb_formatted_code = \"# unique overitmes\\ndf[\\\"NEWOvertime\\\"].unique()\";\n",
       "                var nbb_cells = Jupyter.notebook.get_cells();\n",
       "                for (var i = 0; i < nbb_cells.length; ++i) {\n",
       "                    if (nbb_cells[i].input_prompt_number == nbb_cell_id) {\n",
       "                        if (nbb_cells[i].get_text() == nbb_unformatted_code) {\n",
       "                             nbb_cells[i].set_text(nbb_formatted_code);\n",
       "                        }\n",
       "                        break;\n",
       "                    }\n",
       "                }\n",
       "            }, 500);\n",
       "            "
      ],
      "text/plain": [
       "<IPython.core.display.Javascript object>"
      ]
     },
     "metadata": {},
     "output_type": "display_data"
    }
   ],
   "source": [
    "# unique overitmes\n",
    "df[\"NEWOvertime\"].unique()"
   ]
  },
  {
   "cell_type": "code",
   "execution_count": 9,
   "id": "varied-hybrid",
   "metadata": {},
   "outputs": [
    {
     "data": {
      "text/plain": [
       "array(['I am a developer by profession', 'I code primarily as a hobby',\n",
       "       'I used to be a developer by profession, but no longer am',\n",
       "       'I am not primarily a developer, but I write code sometimes as part of my work',\n",
       "       'I am a student who is learning to code', nan], dtype=object)"
      ]
     },
     "execution_count": 9,
     "metadata": {},
     "output_type": "execute_result"
    },
    {
     "data": {
      "application/javascript": [
       "\n",
       "            setTimeout(function() {\n",
       "                var nbb_cell_id = 9;\n",
       "                var nbb_unformatted_code = \"df.MainBranch.unique()\";\n",
       "                var nbb_formatted_code = \"df.MainBranch.unique()\";\n",
       "                var nbb_cells = Jupyter.notebook.get_cells();\n",
       "                for (var i = 0; i < nbb_cells.length; ++i) {\n",
       "                    if (nbb_cells[i].input_prompt_number == nbb_cell_id) {\n",
       "                        if (nbb_cells[i].get_text() == nbb_unformatted_code) {\n",
       "                             nbb_cells[i].set_text(nbb_formatted_code);\n",
       "                        }\n",
       "                        break;\n",
       "                    }\n",
       "                }\n",
       "            }, 500);\n",
       "            "
      ],
      "text/plain": [
       "<IPython.core.display.Javascript object>"
      ]
     },
     "metadata": {},
     "output_type": "display_data"
    }
   ],
   "source": [
    "df.MainBranch.unique()"
   ]
  },
  {
   "cell_type": "code",
   "execution_count": 10,
   "id": "thermal-theta",
   "metadata": {},
   "outputs": [
    {
     "data": {
      "application/javascript": [
       "\n",
       "            setTimeout(function() {\n",
       "                var nbb_cell_id = 10;\n",
       "                var nbb_unformatted_code = \"to_ananlyse = \\\"Often: 1-2 days per week or more\\\"\";\n",
       "                var nbb_formatted_code = \"to_ananlyse = \\\"Often: 1-2 days per week or more\\\"\";\n",
       "                var nbb_cells = Jupyter.notebook.get_cells();\n",
       "                for (var i = 0; i < nbb_cells.length; ++i) {\n",
       "                    if (nbb_cells[i].input_prompt_number == nbb_cell_id) {\n",
       "                        if (nbb_cells[i].get_text() == nbb_unformatted_code) {\n",
       "                             nbb_cells[i].set_text(nbb_formatted_code);\n",
       "                        }\n",
       "                        break;\n",
       "                    }\n",
       "                }\n",
       "            }, 500);\n",
       "            "
      ],
      "text/plain": [
       "<IPython.core.display.Javascript object>"
      ]
     },
     "metadata": {},
     "output_type": "display_data"
    }
   ],
   "source": [
    "to_ananlyse = \"Often: 1-2 days per week or more\""
   ]
  },
  {
   "cell_type": "markdown",
   "id": "mysterious-michigan",
   "metadata": {},
   "source": [
    "We are interested in ananlysing employees doing 1-2 days overtime every week"
   ]
  },
  {
   "cell_type": "code",
   "execution_count": 11,
   "id": "existing-contemporary",
   "metadata": {},
   "outputs": [
    {
     "name": "stdout",
     "output_type": "stream",
     "text": [
      "Sometimes: 1-2 days per month but less than weekly          17.913157\n",
      "Often: 1-2 days per week or more                            17.106467\n",
      "Occasionally: 1-2 days per quarter but less than monthly    14.687951\n",
      "Rarely: 1-2 days per year or less                           10.038628\n",
      "Never                                                        7.319154\n",
      "Name: NEWOvertime, dtype: float64\n"
     ]
    },
    {
     "data": {
      "image/png": "[encoded data removed]",
      "text/plain": [
       "<Figure size 432x288 with 1 Axes>"
      ]
     },
     "metadata": {
      "needs_background": "light"
     },
     "output_type": "display_data"
    },
    {
     "name": "stderr",
     "output_type": "stream",
     "text": [
      "3:80: E501 line too long (85 > 79 characters)\n",
      "5:80: E501 line too long (88 > 79 characters)\n"
     ]
    },
    {
     "data": {
      "application/javascript": [
       "\n",
       "            setTimeout(function() {\n",
       "                var nbb_cell_id = 11;\n",
       "                var nbb_unformatted_code = \"# Q1.a What percent of all repondent do overtime 1-2 days a week.\\n(\\n    df[df[\\\"NEWOvertime\\\"].notnull()][\\\"NEWOvertime\\\"].value_counts() / df.shape[0] * 100\\n).plot.bar()\\nprint(df[df[\\\"NEWOvertime\\\"].notnull()][\\\"NEWOvertime\\\"].value_counts() / df.shape[0] * 100)\";\n",
       "                var nbb_formatted_code = \"# Q1.a What percent of all repondent do overtime 1-2 days a week.\\n(\\n    df[df[\\\"NEWOvertime\\\"].notnull()][\\\"NEWOvertime\\\"].value_counts() / df.shape[0] * 100\\n).plot.bar()\\nprint(df[df[\\\"NEWOvertime\\\"].notnull()][\\\"NEWOvertime\\\"].value_counts() / df.shape[0] * 100)\";\n",
       "                var nbb_cells = Jupyter.notebook.get_cells();\n",
       "                for (var i = 0; i < nbb_cells.length; ++i) {\n",
       "                    if (nbb_cells[i].input_prompt_number == nbb_cell_id) {\n",
       "                        if (nbb_cells[i].get_text() == nbb_unformatted_code) {\n",
       "                             nbb_cells[i].set_text(nbb_formatted_code);\n",
       "                        }\n",
       "                        break;\n",
       "                    }\n",
       "                }\n",
       "            }, 500);\n",
       "            "
      ],
      "text/plain": [
       "<IPython.core.display.Javascript object>"
      ]
     },
     "metadata": {},
     "output_type": "display_data"
    }
   ],
   "source": [
    "# Q1.a What percent of all repondent do overtime 1-2 days a week.\n",
    "(\n",
    "    df[df[\"NEWOvertime\"].notnull()][\"NEWOvertime\"].value_counts() / df.shape[0] * 100\n",
    ").plot.bar()\n",
    "print(df[df[\"NEWOvertime\"].notnull()][\"NEWOvertime\"].value_counts() / df.shape[0] * 100)"
   ]
  },
  {
   "cell_type": "code",
   "execution_count": 12,
   "id": "hungry-moisture",
   "metadata": {},
   "outputs": [
    {
     "data": {
      "text/plain": [
       "I am a developer by profession                                                   73.211709\n",
       "I am a student who is learning to code                                           12.364065\n",
       "I am not primarily a developer, but I write code sometimes as part of my work     8.535393\n",
       "I code primarily as a hobby                                                       3.589767\n",
       "I used to be a developer by profession, but no longer am                          1.835218\n",
       "Name: MainBranch, dtype: float64"
      ]
     },
     "execution_count": 12,
     "metadata": {},
     "output_type": "execute_result"
    },
    {
     "data": {
      "application/javascript": [
       "\n",
       "            setTimeout(function() {\n",
       "                var nbb_cell_id = 12;\n",
       "                var nbb_unformatted_code = \"df.MainBranch.value_counts() / df.shape[0] * 100\";\n",
       "                var nbb_formatted_code = \"df.MainBranch.value_counts() / df.shape[0] * 100\";\n",
       "                var nbb_cells = Jupyter.notebook.get_cells();\n",
       "                for (var i = 0; i < nbb_cells.length; ++i) {\n",
       "                    if (nbb_cells[i].input_prompt_number == nbb_cell_id) {\n",
       "                        if (nbb_cells[i].get_text() == nbb_unformatted_code) {\n",
       "                             nbb_cells[i].set_text(nbb_formatted_code);\n",
       "                        }\n",
       "                        break;\n",
       "                    }\n",
       "                }\n",
       "            }, 500);\n",
       "            "
      ],
      "text/plain": [
       "<IPython.core.display.Javascript object>"
      ]
     },
     "metadata": {},
     "output_type": "display_data"
    }
   ],
   "source": [
    "df.MainBranch.value_counts() / df.shape[0] * 100"
   ]
  },
  {
   "cell_type": "code",
   "execution_count": 13,
   "id": "infrared-maine",
   "metadata": {},
   "outputs": [
    {
     "data": {
      "application/javascript": [
       "\n",
       "            setTimeout(function() {\n",
       "                var nbb_cell_id = 13;\n",
       "                var nbb_unformatted_code = \"# progessional developers\\ndev = df[df[\\\"MainBranch\\\"] == \\\"I am a developer by profession\\\"]\";\n",
       "                var nbb_formatted_code = \"# progessional developers\\ndev = df[df[\\\"MainBranch\\\"] == \\\"I am a developer by profession\\\"]\";\n",
       "                var nbb_cells = Jupyter.notebook.get_cells();\n",
       "                for (var i = 0; i < nbb_cells.length; ++i) {\n",
       "                    if (nbb_cells[i].input_prompt_number == nbb_cell_id) {\n",
       "                        if (nbb_cells[i].get_text() == nbb_unformatted_code) {\n",
       "                             nbb_cells[i].set_text(nbb_formatted_code);\n",
       "                        }\n",
       "                        break;\n",
       "                    }\n",
       "                }\n",
       "            }, 500);\n",
       "            "
      ],
      "text/plain": [
       "<IPython.core.display.Javascript object>"
      ]
     },
     "metadata": {},
     "output_type": "display_data"
    }
   ],
   "source": [
    "# progessional developers\n",
    "dev = df[df[\"MainBranch\"] == \"I am a developer by profession\"]"
   ]
  },
  {
   "cell_type": "code",
   "execution_count": 14,
   "id": "induced-voluntary",
   "metadata": {},
   "outputs": [
    {
     "name": "stdout",
     "output_type": "stream",
     "text": [
      "Sometimes: 1-2 days per month but less than weekly          21.963003\n",
      "Often: 1-2 days per week or more                            20.386498\n",
      "Occasionally: 1-2 days per quarter but less than monthly    18.312038\n",
      "Rarely: 1-2 days per year or less                           12.734940\n",
      "Never                                                        9.310703\n",
      "Name: NEWOvertime, dtype: float64\n"
     ]
    },
    {
     "data": {
      "image/png": "[encoded data removed]",
      "text/plain": [
       "<Figure size 432x288 with 1 Axes>"
      ]
     },
     "metadata": {
      "needs_background": "light"
     },
     "output_type": "display_data"
    },
    {
     "name": "stderr",
     "output_type": "stream",
     "text": [
      "3:80: E501 line too long (88 > 79 characters)\n",
      "6:80: E501 line too long (88 > 79 characters)\n"
     ]
    },
    {
     "data": {
      "application/javascript": [
       "\n",
       "            setTimeout(function() {\n",
       "                var nbb_cell_id = 14;\n",
       "                var nbb_unformatted_code = \"# Q1.b What percent of dev do overtime 1-2 days a week.\\n(\\n    dev[dev[\\\"NEWOvertime\\\"].notnull()][\\\"NEWOvertime\\\"].value_counts() / dev.shape[0] * 100\\n).plot.bar()\\nprint(\\n    dev[dev[\\\"NEWOvertime\\\"].notnull()][\\\"NEWOvertime\\\"].value_counts() / dev.shape[0] * 100\\n)\";\n",
       "                var nbb_formatted_code = \"# Q1.b What percent of dev do overtime 1-2 days a week.\\n(\\n    dev[dev[\\\"NEWOvertime\\\"].notnull()][\\\"NEWOvertime\\\"].value_counts() / dev.shape[0] * 100\\n).plot.bar()\\nprint(\\n    dev[dev[\\\"NEWOvertime\\\"].notnull()][\\\"NEWOvertime\\\"].value_counts() / dev.shape[0] * 100\\n)\";\n",
       "                var nbb_cells = Jupyter.notebook.get_cells();\n",
       "                for (var i = 0; i < nbb_cells.length; ++i) {\n",
       "                    if (nbb_cells[i].input_prompt_number == nbb_cell_id) {\n",
       "                        if (nbb_cells[i].get_text() == nbb_unformatted_code) {\n",
       "                             nbb_cells[i].set_text(nbb_formatted_code);\n",
       "                        }\n",
       "                        break;\n",
       "                    }\n",
       "                }\n",
       "            }, 500);\n",
       "            "
      ],
      "text/plain": [
       "<IPython.core.display.Javascript object>"
      ]
     },
     "metadata": {},
     "output_type": "display_data"
    }
   ],
   "source": [
    "# Q1.b What percent of dev do overtime 1-2 days a week.\n",
    "(\n",
    "    dev[dev[\"NEWOvertime\"].notnull()][\"NEWOvertime\"].value_counts() / dev.shape[0] * 100\n",
    ").plot.bar()\n",
    "print(\n",
    "    dev[dev[\"NEWOvertime\"].notnull()][\"NEWOvertime\"].value_counts() / dev.shape[0] * 100\n",
    ")"
   ]
  },
  {
   "cell_type": "code",
   "execution_count": 15,
   "id": "handmade-prevention",
   "metadata": {},
   "outputs": [
    {
     "name": "stderr",
     "output_type": "stream",
     "text": [
      "13:80: E501 line too long (87 > 79 characters)\n"
     ]
    },
    {
     "data": {
      "application/javascript": [
       "\n",
       "            setTimeout(function() {\n",
       "                var nbb_cell_id = 15;\n",
       "                var nbb_unformatted_code = \"def get_overtime_df(df, to_group_by, overtime_freq):\\n    \\\"\\\"\\\" This function returns overtime percetange based on groupby column\\\"\\\"\\\"\\n    overtime_df = (\\n        df[df.NEWOvertime == overtime_freq]\\n        .groupby(to_group_by)[\\\"NEWOvertime\\\"]\\n        .value_counts()\\n        .sort_values(ascending=False)\\n    )\\n    overtime_df = overtime_df / df.shape[0] * 100\\n    overtime_df = pd.DataFrame(overtime_df)\\n    overtime_df[to_group_by] = overtime_df.index.get_level_values(0)\\n    overtime_df.reset_index(drop=True, inplace=True)\\n    overtime_df = overtime_df.rename(columns={\\\"NEWOvertime\\\": \\\"1-2 days overtime/week\\\"})\\n    return overtime_df\";\n",
       "                var nbb_formatted_code = \"def get_overtime_df(df, to_group_by, overtime_freq):\\n    \\\"\\\"\\\" This function returns overtime percetange based on groupby column\\\"\\\"\\\"\\n    overtime_df = (\\n        df[df.NEWOvertime == overtime_freq]\\n        .groupby(to_group_by)[\\\"NEWOvertime\\\"]\\n        .value_counts()\\n        .sort_values(ascending=False)\\n    )\\n    overtime_df = overtime_df / df.shape[0] * 100\\n    overtime_df = pd.DataFrame(overtime_df)\\n    overtime_df[to_group_by] = overtime_df.index.get_level_values(0)\\n    overtime_df.reset_index(drop=True, inplace=True)\\n    overtime_df = overtime_df.rename(columns={\\\"NEWOvertime\\\": \\\"1-2 days overtime/week\\\"})\\n    return overtime_df\";\n",
       "                var nbb_cells = Jupyter.notebook.get_cells();\n",
       "                for (var i = 0; i < nbb_cells.length; ++i) {\n",
       "                    if (nbb_cells[i].input_prompt_number == nbb_cell_id) {\n",
       "                        if (nbb_cells[i].get_text() == nbb_unformatted_code) {\n",
       "                             nbb_cells[i].set_text(nbb_formatted_code);\n",
       "                        }\n",
       "                        break;\n",
       "                    }\n",
       "                }\n",
       "            }, 500);\n",
       "            "
      ],
      "text/plain": [
       "<IPython.core.display.Javascript object>"
      ]
     },
     "metadata": {},
     "output_type": "display_data"
    }
   ],
   "source": [
    "def get_overtime_df(df, to_group_by, overtime_freq):\n",
    "    \"\"\" This function returns overtime percetange based on groupby column\"\"\"\n",
    "    overtime_df = (\n",
    "        df[df.NEWOvertime == overtime_freq]\n",
    "        .groupby(to_group_by)[\"NEWOvertime\"]\n",
    "        .value_counts()\n",
    "        .sort_values(ascending=False)\n",
    "    )\n",
    "    overtime_df = overtime_df / df.shape[0] * 100\n",
    "    overtime_df = pd.DataFrame(overtime_df)\n",
    "    overtime_df[to_group_by] = overtime_df.index.get_level_values(0)\n",
    "    overtime_df.reset_index(drop=True, inplace=True)\n",
    "    overtime_df = overtime_df.rename(columns={\"NEWOvertime\": \"1-2 days overtime/week\"})\n",
    "    return overtime_df"
   ]
  },
  {
   "cell_type": "code",
   "execution_count": 16,
   "id": "saving-least",
   "metadata": {},
   "outputs": [
    {
     "name": "stdout",
     "output_type": "stream",
     "text": [
      "   1-2 days overtime/week                                            OrgSize\n",
      "0                3.586665                                 20 to 99 employees\n",
      "1                2.829618                               100 to 499 employees\n",
      "2                2.216844                                   2 to 9 employees\n",
      "3                2.198228                           10,000 or more employees\n",
      "4                1.703356                                 10 to 19 employees\n",
      "5                1.531158                           1,000 to 4,999 employees\n",
      "6                1.177456  Just me - I am a freelancer, sole proprietor, ...\n",
      "7                0.963373                               500 to 999 employees\n",
      "8                0.589504                           5,000 to 9,999 employees\n"
     ]
    },
    {
     "data": {
      "image/png": "[encoded data removed]",
      "text/plain": [
       "<Figure size 432x288 with 1 Axes>"
      ]
     },
     "metadata": {
      "needs_background": "light"
     },
     "output_type": "display_data"
    },
    {
     "data": {
      "application/javascript": [
       "\n",
       "            setTimeout(function() {\n",
       "                var nbb_cell_id = 16;\n",
       "                var nbb_unformatted_code = \"# Q2.a Do people overtime more frequently in small organizations\\norg_overtime = get_overtime_df(df, \\\"OrgSize\\\", to_ananlyse)\\norg_overtime.plot(x=\\\"OrgSize\\\", y=[\\\"1-2 days overtime/week\\\"], kind=\\\"bar\\\")\\nprint(org_overtime)\";\n",
       "                var nbb_formatted_code = \"# Q2.a Do people overtime more frequently in small organizations\\norg_overtime = get_overtime_df(df, \\\"OrgSize\\\", to_ananlyse)\\norg_overtime.plot(x=\\\"OrgSize\\\", y=[\\\"1-2 days overtime/week\\\"], kind=\\\"bar\\\")\\nprint(org_overtime)\";\n",
       "                var nbb_cells = Jupyter.notebook.get_cells();\n",
       "                for (var i = 0; i < nbb_cells.length; ++i) {\n",
       "                    if (nbb_cells[i].input_prompt_number == nbb_cell_id) {\n",
       "                        if (nbb_cells[i].get_text() == nbb_unformatted_code) {\n",
       "                             nbb_cells[i].set_text(nbb_formatted_code);\n",
       "                        }\n",
       "                        break;\n",
       "                    }\n",
       "                }\n",
       "            }, 500);\n",
       "            "
      ],
      "text/plain": [
       "<IPython.core.display.Javascript object>"
      ]
     },
     "metadata": {},
     "output_type": "display_data"
    }
   ],
   "source": [
    "# Q2.a Do people overtime more frequently in small organizations\n",
    "org_overtime = get_overtime_df(df, \"OrgSize\", to_ananlyse)\n",
    "org_overtime.plot(x=\"OrgSize\", y=[\"1-2 days overtime/week\"], kind=\"bar\")\n",
    "print(org_overtime)"
   ]
  },
  {
   "cell_type": "code",
   "execution_count": 17,
   "id": "reverse-healthcare",
   "metadata": {},
   "outputs": [
    {
     "name": "stdout",
     "output_type": "stream",
     "text": [
      "   1-2 days overtime/week                                            OrgSize\n",
      "0                4.475240                                 20 to 99 employees\n",
      "1                3.371263                               100 to 499 employees\n",
      "2                2.782192                                   2 to 9 employees\n",
      "3                2.487657                           10,000 or more employees\n",
      "4                2.102007                                 10 to 19 employees\n",
      "5                1.650669                           1,000 to 4,999 employees\n",
      "6                1.411226  Just me - I am a freelancer, sole proprietor, ...\n",
      "7                1.131524                               500 to 999 employees\n",
      "8                0.646282                           5,000 to 9,999 employees\n"
     ]
    },
    {
     "data": {
      "image/png": "[encoded data removed]",
      "text/plain": [
       "<Figure size 432x288 with 1 Axes>"
      ]
     },
     "metadata": {
      "needs_background": "light"
     },
     "output_type": "display_data"
    },
    {
     "data": {
      "application/javascript": [
       "\n",
       "            setTimeout(function() {\n",
       "                var nbb_cell_id = 17;\n",
       "                var nbb_unformatted_code = \"# Q2.b Do people overtime more frequently in small organizations\\ndev_overtime_org = get_overtime_df(dev, \\\"OrgSize\\\", to_ananlyse)\\ndev_overtime_org.plot(x=\\\"OrgSize\\\", y=[\\\"1-2 days overtime/week\\\"], kind=\\\"bar\\\")\\nprint(dev_overtime_org)\";\n",
       "                var nbb_formatted_code = \"# Q2.b Do people overtime more frequently in small organizations\\ndev_overtime_org = get_overtime_df(dev, \\\"OrgSize\\\", to_ananlyse)\\ndev_overtime_org.plot(x=\\\"OrgSize\\\", y=[\\\"1-2 days overtime/week\\\"], kind=\\\"bar\\\")\\nprint(dev_overtime_org)\";\n",
       "                var nbb_cells = Jupyter.notebook.get_cells();\n",
       "                for (var i = 0; i < nbb_cells.length; ++i) {\n",
       "                    if (nbb_cells[i].input_prompt_number == nbb_cell_id) {\n",
       "                        if (nbb_cells[i].get_text() == nbb_unformatted_code) {\n",
       "                             nbb_cells[i].set_text(nbb_formatted_code);\n",
       "                        }\n",
       "                        break;\n",
       "                    }\n",
       "                }\n",
       "            }, 500);\n",
       "            "
      ],
      "text/plain": [
       "<IPython.core.display.Javascript object>"
      ]
     },
     "metadata": {},
     "output_type": "display_data"
    }
   ],
   "source": [
    "# Q2.b Do people overtime more frequently in small organizations\n",
    "dev_overtime_org = get_overtime_df(dev, \"OrgSize\", to_ananlyse)\n",
    "dev_overtime_org.plot(x=\"OrgSize\", y=[\"1-2 days overtime/week\"], kind=\"bar\")\n",
    "print(dev_overtime_org)"
   ]
  },
  {
   "cell_type": "code",
   "execution_count": 18,
   "id": "fantastic-annotation",
   "metadata": {},
   "outputs": [
    {
     "name": "stdout",
     "output_type": "stream",
     "text": [
      "   1-2 days overtime/week                                         Employment\n",
      "0               14.179116                                 Employed full-time\n",
      "1                2.412311  Independent contractor, freelancer, or self-em...\n",
      "2                0.468500                                 Employed part-time\n"
     ]
    },
    {
     "data": {
      "image/png": "[encoded data removed]",
      "text/plain": [
       "<Figure size 432x288 with 1 Axes>"
      ]
     },
     "metadata": {
      "needs_background": "light"
     },
     "output_type": "display_data"
    },
    {
     "name": "stderr",
     "output_type": "stream",
     "text": [
      "4:80: E501 line too long (82 > 79 characters)\n"
     ]
    },
    {
     "data": {
      "application/javascript": [
       "\n",
       "            setTimeout(function() {\n",
       "                var nbb_cell_id = 18;\n",
       "                var nbb_unformatted_code = \"# Q3.a Which employement status works overtime more freqeuntly ?\\n# Do parttime employee work overtime to make to employment full time ?\\nemployment_overtime = get_overtime_df(df, \\\"Employment\\\", to_ananlyse)\\nemployment_overtime.plot(x=\\\"Employment\\\", y=[\\\"1-2 days overtime/week\\\"], kind=\\\"bar\\\")\\nprint(employment_overtime)\";\n",
       "                var nbb_formatted_code = \"# Q3.a Which employement status works overtime more freqeuntly ?\\n# Do parttime employee work overtime to make to employment full time ?\\nemployment_overtime = get_overtime_df(df, \\\"Employment\\\", to_ananlyse)\\nemployment_overtime.plot(x=\\\"Employment\\\", y=[\\\"1-2 days overtime/week\\\"], kind=\\\"bar\\\")\\nprint(employment_overtime)\";\n",
       "                var nbb_cells = Jupyter.notebook.get_cells();\n",
       "                for (var i = 0; i < nbb_cells.length; ++i) {\n",
       "                    if (nbb_cells[i].input_prompt_number == nbb_cell_id) {\n",
       "                        if (nbb_cells[i].get_text() == nbb_unformatted_code) {\n",
       "                             nbb_cells[i].set_text(nbb_formatted_code);\n",
       "                        }\n",
       "                        break;\n",
       "                    }\n",
       "                }\n",
       "            }, 500);\n",
       "            "
      ],
      "text/plain": [
       "<IPython.core.display.Javascript object>"
      ]
     },
     "metadata": {},
     "output_type": "display_data"
    }
   ],
   "source": [
    "# Q3.a Which employement status works overtime more freqeuntly ?\n",
    "# Do parttime employee work overtime to make to employment full time ?\n",
    "employment_overtime = get_overtime_df(df, \"Employment\", to_ananlyse)\n",
    "employment_overtime.plot(x=\"Employment\", y=[\"1-2 days overtime/week\"], kind=\"bar\")\n",
    "print(employment_overtime)"
   ]
  },
  {
   "cell_type": "code",
   "execution_count": 19,
   "id": "balanced-upset",
   "metadata": {},
   "outputs": [
    {
     "name": "stdout",
     "output_type": "stream",
     "text": [
      "   1-2 days overtime/week                                         Employment\n",
      "0               16.894455                                 Employed full-time\n",
      "1                2.911449  Independent contractor, freelancer, or self-em...\n",
      "2                0.531859                                 Employed part-time\n"
     ]
    },
    {
     "data": {
      "image/png": "[encoded data removed]",
      "text/plain": [
       "<Figure size 432x288 with 1 Axes>"
      ]
     },
     "metadata": {
      "needs_background": "light"
     },
     "output_type": "display_data"
    },
    {
     "name": "stderr",
     "output_type": "stream",
     "text": [
      "3:80: E501 line too long (86 > 79 characters)\n"
     ]
    },
    {
     "data": {
      "application/javascript": [
       "\n",
       "            setTimeout(function() {\n",
       "                var nbb_cell_id = 19;\n",
       "                var nbb_unformatted_code = \"# Q3.b Which employement status works overtime more freqeuntly ?\\ndev_employment_overtime = get_overtime_df(dev, \\\"Employment\\\", to_ananlyse)\\ndev_employment_overtime.plot(x=\\\"Employment\\\", y=[\\\"1-2 days overtime/week\\\"], kind=\\\"bar\\\")\\nprint(dev_employment_overtime)\";\n",
       "                var nbb_formatted_code = \"# Q3.b Which employement status works overtime more freqeuntly ?\\ndev_employment_overtime = get_overtime_df(dev, \\\"Employment\\\", to_ananlyse)\\ndev_employment_overtime.plot(x=\\\"Employment\\\", y=[\\\"1-2 days overtime/week\\\"], kind=\\\"bar\\\")\\nprint(dev_employment_overtime)\";\n",
       "                var nbb_cells = Jupyter.notebook.get_cells();\n",
       "                for (var i = 0; i < nbb_cells.length; ++i) {\n",
       "                    if (nbb_cells[i].input_prompt_number == nbb_cell_id) {\n",
       "                        if (nbb_cells[i].get_text() == nbb_unformatted_code) {\n",
       "                             nbb_cells[i].set_text(nbb_formatted_code);\n",
       "                        }\n",
       "                        break;\n",
       "                    }\n",
       "                }\n",
       "            }, 500);\n",
       "            "
      ],
      "text/plain": [
       "<IPython.core.display.Javascript object>"
      ]
     },
     "metadata": {},
     "output_type": "display_data"
    }
   ],
   "source": [
    "# Q3.b Which employement status works overtime more freqeuntly ?\n",
    "dev_employment_overtime = get_overtime_df(dev, \"Employment\", to_ananlyse)\n",
    "dev_employment_overtime.plot(x=\"Employment\", y=[\"1-2 days overtime/week\"], kind=\"bar\")\n",
    "print(dev_employment_overtime)"
   ]
  },
  {
   "cell_type": "code",
   "execution_count": 20,
   "id": "classified-combine",
   "metadata": {},
   "outputs": [
    {
     "name": "stdout",
     "output_type": "stream",
     "text": [
      "     1-2 days overtime/week         Country\n",
      "0                  3.219001   United States\n",
      "1                  2.438684           India\n",
      "2                  1.152635         Germany\n",
      "3                  0.958719  United Kingdom\n",
      "4                  0.606568          France\n",
      "..                      ...             ...\n",
      "152                0.001551            Fiji\n",
      "153                0.001551          Gambia\n",
      "154                0.001551          Guyana\n",
      "155                0.001551           Haiti\n",
      "156                0.001551         Namibia\n",
      "\n",
      "[157 rows x 2 columns]\n"
     ]
    },
    {
     "data": {
      "image/png": "[encoded data removed]",
      "text/plain": [
       "<Figure size 432x288 with 1 Axes>"
      ]
     },
     "metadata": {
      "needs_background": "light"
     },
     "output_type": "display_data"
    },
    {
     "name": "stderr",
     "output_type": "stream",
     "text": [
      "3:80: E501 line too long (84 > 79 characters)\n"
     ]
    },
    {
     "data": {
      "application/javascript": [
       "\n",
       "            setTimeout(function() {\n",
       "                var nbb_cell_id = 20;\n",
       "                var nbb_unformatted_code = \"# Q4.a Which country works overtime more freqeuntly ?\\ncountry_overtime = get_overtime_df(df, \\\"Country\\\", to_ananlyse)\\ncountry_overtime.head(5).plot(x=\\\"Country\\\", y=[\\\"1-2 days overtime/week\\\"], kind=\\\"bar\\\")\\nprint(country_overtime)\";\n",
       "                var nbb_formatted_code = \"# Q4.a Which country works overtime more freqeuntly ?\\ncountry_overtime = get_overtime_df(df, \\\"Country\\\", to_ananlyse)\\ncountry_overtime.head(5).plot(x=\\\"Country\\\", y=[\\\"1-2 days overtime/week\\\"], kind=\\\"bar\\\")\\nprint(country_overtime)\";\n",
       "                var nbb_cells = Jupyter.notebook.get_cells();\n",
       "                for (var i = 0; i < nbb_cells.length; ++i) {\n",
       "                    if (nbb_cells[i].input_prompt_number == nbb_cell_id) {\n",
       "                        if (nbb_cells[i].get_text() == nbb_unformatted_code) {\n",
       "                             nbb_cells[i].set_text(nbb_formatted_code);\n",
       "                        }\n",
       "                        break;\n",
       "                    }\n",
       "                }\n",
       "            }, 500);\n",
       "            "
      ],
      "text/plain": [
       "<IPython.core.display.Javascript object>"
      ]
     },
     "metadata": {},
     "output_type": "display_data"
    }
   ],
   "source": [
    "# Q4.a Which country works overtime more freqeuntly ?\n",
    "country_overtime = get_overtime_df(df, \"Country\", to_ananlyse)\n",
    "country_overtime.head(5).plot(x=\"Country\", y=[\"1-2 days overtime/week\"], kind=\"bar\")\n",
    "print(country_overtime)"
   ]
  },
  {
   "cell_type": "code",
   "execution_count": 21,
   "id": "supposed-weight",
   "metadata": {},
   "outputs": [
    {
     "name": "stdout",
     "output_type": "stream",
     "text": [
      "     1-2 days overtime/week            Country\n",
      "0                  3.695463      United States\n",
      "1                  3.125464              India\n",
      "2                  1.328587            Germany\n",
      "3                  1.091264     United Kingdom\n",
      "4                  0.731041             France\n",
      "..                      ...                ...\n",
      "148                0.002119           Djibouti\n",
      "149                0.002119             Gambia\n",
      "150                0.002119  Brunei Darussalam\n",
      "151                0.002119         Tajikistan\n",
      "152                0.002119      Liechtenstein\n",
      "\n",
      "[153 rows x 2 columns]\n"
     ]
    },
    {
     "data": {
      "image/png": "[encoded data removed]",
      "text/plain": [
       "<Figure size 432x288 with 1 Axes>"
      ]
     },
     "metadata": {
      "needs_background": "light"
     },
     "output_type": "display_data"
    },
    {
     "name": "stderr",
     "output_type": "stream",
     "text": [
      "3:80: E501 line too long (88 > 79 characters)\n"
     ]
    },
    {
     "data": {
      "application/javascript": [
       "\n",
       "            setTimeout(function() {\n",
       "                var nbb_cell_id = 21;\n",
       "                var nbb_unformatted_code = \"# Q4.b Which country works overtime more freqeuntly ?\\ndev_country_overtime = get_overtime_df(dev, \\\"Country\\\", to_ananlyse)\\ndev_country_overtime.head(5).plot(x=\\\"Country\\\", y=[\\\"1-2 days overtime/week\\\"], kind=\\\"bar\\\")\\nprint(dev_country_overtime)\";\n",
       "                var nbb_formatted_code = \"# Q4.b Which country works overtime more freqeuntly ?\\ndev_country_overtime = get_overtime_df(dev, \\\"Country\\\", to_ananlyse)\\ndev_country_overtime.head(5).plot(x=\\\"Country\\\", y=[\\\"1-2 days overtime/week\\\"], kind=\\\"bar\\\")\\nprint(dev_country_overtime)\";\n",
       "                var nbb_cells = Jupyter.notebook.get_cells();\n",
       "                for (var i = 0; i < nbb_cells.length; ++i) {\n",
       "                    if (nbb_cells[i].input_prompt_number == nbb_cell_id) {\n",
       "                        if (nbb_cells[i].get_text() == nbb_unformatted_code) {\n",
       "                             nbb_cells[i].set_text(nbb_formatted_code);\n",
       "                        }\n",
       "                        break;\n",
       "                    }\n",
       "                }\n",
       "            }, 500);\n",
       "            "
      ],
      "text/plain": [
       "<IPython.core.display.Javascript object>"
      ]
     },
     "metadata": {},
     "output_type": "display_data"
    }
   ],
   "source": [
    "# Q4.b Which country works overtime more freqeuntly ?\n",
    "dev_country_overtime = get_overtime_df(dev, \"Country\", to_ananlyse)\n",
    "dev_country_overtime.head(5).plot(x=\"Country\", y=[\"1-2 days overtime/week\"], kind=\"bar\")\n",
    "print(dev_country_overtime)"
   ]
  },
  {
   "cell_type": "code",
   "execution_count": 22,
   "id": "known-nightmare",
   "metadata": {},
   "outputs": [
    {
     "data": {
      "application/javascript": [
       "\n",
       "            setTimeout(function() {\n",
       "                var nbb_cell_id = 22;\n",
       "                var nbb_unformatted_code = \"def get_gender_df(df):\\n    \\\"\\\"\\\" This function parsed Gender column into 3 categories\\\"\\\"\\\"\\n    man_woman_df = df[(df.Gender == \\\"Man\\\") | (df.Gender == \\\"Woman\\\")]\\n    no_binary_df = df[(df.Gender != \\\"Man\\\") | (df.Gender != \\\"Woman\\\")]\\n    no_binary_df[\\\"Gender\\\"] = no_binary_df[\\\"Gender\\\"].str.split(\\\";\\\").str[0]\\n    return pd.concat([man_woman_df, no_binary_df])\";\n",
       "                var nbb_formatted_code = \"def get_gender_df(df):\\n    \\\"\\\"\\\" This function parsed Gender column into 3 categories\\\"\\\"\\\"\\n    man_woman_df = df[(df.Gender == \\\"Man\\\") | (df.Gender == \\\"Woman\\\")]\\n    no_binary_df = df[(df.Gender != \\\"Man\\\") | (df.Gender != \\\"Woman\\\")]\\n    no_binary_df[\\\"Gender\\\"] = no_binary_df[\\\"Gender\\\"].str.split(\\\";\\\").str[0]\\n    return pd.concat([man_woman_df, no_binary_df])\";\n",
       "                var nbb_cells = Jupyter.notebook.get_cells();\n",
       "                for (var i = 0; i < nbb_cells.length; ++i) {\n",
       "                    if (nbb_cells[i].input_prompt_number == nbb_cell_id) {\n",
       "                        if (nbb_cells[i].get_text() == nbb_unformatted_code) {\n",
       "                             nbb_cells[i].set_text(nbb_formatted_code);\n",
       "                        }\n",
       "                        break;\n",
       "                    }\n",
       "                }\n",
       "            }, 500);\n",
       "            "
      ],
      "text/plain": [
       "<IPython.core.display.Javascript object>"
      ]
     },
     "metadata": {},
     "output_type": "display_data"
    }
   ],
   "source": [
    "def get_gender_df(df):\n",
    "    \"\"\" This function parsed Gender column into 3 categories\"\"\"\n",
    "    man_woman_df = df[(df.Gender == \"Man\") | (df.Gender == \"Woman\")]\n",
    "    no_binary_df = df[(df.Gender != \"Man\") | (df.Gender != \"Woman\")]\n",
    "    no_binary_df[\"Gender\"] = no_binary_df[\"Gender\"].str.split(\";\").str[0]\n",
    "    return pd.concat([man_woman_df, no_binary_df])"
   ]
  },
  {
   "cell_type": "code",
   "execution_count": 23,
   "id": "reported-vessel",
   "metadata": {},
   "outputs": [
    {
     "data": {
      "text/plain": [
       "Man                                                  80.605854\n",
       "Woman                                                 6.894802\n",
       "Non-binary, genderqueer, or gender non-conforming     0.336780\n",
       "Name: Gender, dtype: float64"
      ]
     },
     "execution_count": 23,
     "metadata": {},
     "output_type": "execute_result"
    },
    {
     "data": {
      "application/javascript": [
       "\n",
       "            setTimeout(function() {\n",
       "                var nbb_cell_id = 23;\n",
       "                var nbb_unformatted_code = \"gender_df = get_gender_df(df)\\n# gender proportion in the dataset\\ngender_df[\\\"Gender\\\"].value_counts() / gender_df.shape[0] * 100\";\n",
       "                var nbb_formatted_code = \"gender_df = get_gender_df(df)\\n# gender proportion in the dataset\\ngender_df[\\\"Gender\\\"].value_counts() / gender_df.shape[0] * 100\";\n",
       "                var nbb_cells = Jupyter.notebook.get_cells();\n",
       "                for (var i = 0; i < nbb_cells.length; ++i) {\n",
       "                    if (nbb_cells[i].input_prompt_number == nbb_cell_id) {\n",
       "                        if (nbb_cells[i].get_text() == nbb_unformatted_code) {\n",
       "                             nbb_cells[i].set_text(nbb_formatted_code);\n",
       "                        }\n",
       "                        break;\n",
       "                    }\n",
       "                }\n",
       "            }, 500);\n",
       "            "
      ],
      "text/plain": [
       "<IPython.core.display.Javascript object>"
      ]
     },
     "metadata": {},
     "output_type": "display_data"
    }
   ],
   "source": [
    "gender_df = get_gender_df(df)\n",
    "# gender proportion in the dataset\n",
    "gender_df[\"Gender\"].value_counts() / gender_df.shape[0] * 100"
   ]
  },
  {
   "cell_type": "code",
   "execution_count": 24,
   "id": "suspected-bernard",
   "metadata": {},
   "outputs": [
    {
     "name": "stdout",
     "output_type": "stream",
     "text": [
      "   1-2 days overtime/week                                             Gender\n",
      "0               16.098952                                                Man\n",
      "1                1.125807                                              Woman\n",
      "2                0.047237  Non-binary, genderqueer, or gender non-conforming\n"
     ]
    },
    {
     "data": {
      "image/png": "[encoded data removed]",
      "text/plain": [
       "<Figure size 432x288 with 1 Axes>"
      ]
     },
     "metadata": {
      "needs_background": "light"
     },
     "output_type": "display_data"
    },
    {
     "name": "stderr",
     "output_type": "stream",
     "text": [
      "3:80: E501 line too long (82 > 79 characters)\n"
     ]
    },
    {
     "data": {
      "application/javascript": [
       "\n",
       "            setTimeout(function() {\n",
       "                var nbb_cell_id = 24;\n",
       "                var nbb_unformatted_code = \"# Q5.a Do Man work overtime more frequently\\ngender_overtime = get_overtime_df(gender_df, \\\"Gender\\\", to_ananlyse)\\ngender_overtime.head(5).plot(x=\\\"Gender\\\", y=[\\\"1-2 days overtime/week\\\"], kind=\\\"bar\\\")\\nprint(gender_overtime)\";\n",
       "                var nbb_formatted_code = \"# Q5.a Do Man work overtime more frequently\\ngender_overtime = get_overtime_df(gender_df, \\\"Gender\\\", to_ananlyse)\\ngender_overtime.head(5).plot(x=\\\"Gender\\\", y=[\\\"1-2 days overtime/week\\\"], kind=\\\"bar\\\")\\nprint(gender_overtime)\";\n",
       "                var nbb_cells = Jupyter.notebook.get_cells();\n",
       "                for (var i = 0; i < nbb_cells.length; ++i) {\n",
       "                    if (nbb_cells[i].input_prompt_number == nbb_cell_id) {\n",
       "                        if (nbb_cells[i].get_text() == nbb_unformatted_code) {\n",
       "                             nbb_cells[i].set_text(nbb_formatted_code);\n",
       "                        }\n",
       "                        break;\n",
       "                    }\n",
       "                }\n",
       "            }, 500);\n",
       "            "
      ],
      "text/plain": [
       "<IPython.core.display.Javascript object>"
      ]
     },
     "metadata": {},
     "output_type": "display_data"
    }
   ],
   "source": [
    "# Q5.a Do Man work overtime more frequently\n",
    "gender_overtime = get_overtime_df(gender_df, \"Gender\", to_ananlyse)\n",
    "gender_overtime.head(5).plot(x=\"Gender\", y=[\"1-2 days overtime/week\"], kind=\"bar\")\n",
    "print(gender_overtime)"
   ]
  },
  {
   "cell_type": "code",
   "execution_count": 25,
   "id": "still-parker",
   "metadata": {},
   "outputs": [
    {
     "name": "stdout",
     "output_type": "stream",
     "text": [
      "   1-2 days overtime/week                                             Gender\n",
      "0               19.143233                                                Man\n",
      "1                1.296298                                              Woman\n",
      "2                0.053370  Non-binary, genderqueer, or gender non-conforming\n"
     ]
    },
    {
     "data": {
      "image/png": "[encoded data removed]",
      "text/plain": [
       "<Figure size 432x288 with 1 Axes>"
      ]
     },
     "metadata": {
      "needs_background": "light"
     },
     "output_type": "display_data"
    },
    {
     "name": "stderr",
     "output_type": "stream",
     "text": [
      "4:80: E501 line too long (86 > 79 characters)\n"
     ]
    },
    {
     "data": {
      "application/javascript": [
       "\n",
       "            setTimeout(function() {\n",
       "                var nbb_cell_id = 25;\n",
       "                var nbb_unformatted_code = \"# Q5.b Do professional man developers work overtime more frequently\\ndev_gend_df = get_gender_df(dev)\\ndev_gender_overtime = get_overtime_df(dev_gend_df, \\\"Gender\\\", to_ananlyse)\\ndev_gender_overtime.head(5).plot(x=\\\"Gender\\\", y=[\\\"1-2 days overtime/week\\\"], kind=\\\"bar\\\")\\nprint(dev_gender_overtime)\";\n",
       "                var nbb_formatted_code = \"# Q5.b Do professional man developers work overtime more frequently\\ndev_gend_df = get_gender_df(dev)\\ndev_gender_overtime = get_overtime_df(dev_gend_df, \\\"Gender\\\", to_ananlyse)\\ndev_gender_overtime.head(5).plot(x=\\\"Gender\\\", y=[\\\"1-2 days overtime/week\\\"], kind=\\\"bar\\\")\\nprint(dev_gender_overtime)\";\n",
       "                var nbb_cells = Jupyter.notebook.get_cells();\n",
       "                for (var i = 0; i < nbb_cells.length; ++i) {\n",
       "                    if (nbb_cells[i].input_prompt_number == nbb_cell_id) {\n",
       "                        if (nbb_cells[i].get_text() == nbb_unformatted_code) {\n",
       "                             nbb_cells[i].set_text(nbb_formatted_code);\n",
       "                        }\n",
       "                        break;\n",
       "                    }\n",
       "                }\n",
       "            }, 500);\n",
       "            "
      ],
      "text/plain": [
       "<IPython.core.display.Javascript object>"
      ]
     },
     "metadata": {},
     "output_type": "display_data"
    }
   ],
   "source": [
    "# Q5.b Do professional man developers work overtime more frequently\n",
    "dev_gend_df = get_gender_df(dev)\n",
    "dev_gender_overtime = get_overtime_df(dev_gend_df, \"Gender\", to_ananlyse)\n",
    "dev_gender_overtime.head(5).plot(x=\"Gender\", y=[\"1-2 days overtime/week\"], kind=\"bar\")\n",
    "print(dev_gender_overtime)"
   ]
  },
  {
   "cell_type": "code",
   "execution_count": null,
   "id": "ready-sharp",
   "metadata": {},
   "outputs": [],
   "source": []
  }
 ],
 "metadata": {
  "kernelspec": {
   "display_name": "Python 3",
   "language": "python",
   "name": "python3"
  },
  "language_info": {
   "codemirror_mode": {
    "name": "ipython",
    "version": 3
   },
   "file_extension": ".py",
   "mimetype": "text/x-python",
   "name": "python",
   "nbconvert_exporter": "python",
   "pygments_lexer": "ipython3",
   "version": "3.8.5"
  }
 },
 "nbformat": 4,
 "nbformat_minor": 5
}

{
 "cells": [
  {
   "cell_type": "code",
   "execution_count": 1,
   "id": "distant-barrel",
   "metadata": {},
   "outputs": [],
   "source": [
    "import pandas as pd\n",
    "import numpy as np\n",
    "import matplotlib.pyplot as plt"
   ]
  },
  {
   "cell_type": "code",
   "execution_count": 2,
   "id": "monetary-communications",
   "metadata": {},
   "outputs": [
    {
     "data": {
      "application/javascript": [
       "\n",
       "            setTimeout(function() {\n",
       "                var nbb_cell_id = 2;\n",
       "                var nbb_unformatted_code = \"%load_ext pycodestyle_magic\\n%pycodestyle_on\\n%load_ext nb_black\";\n",
       "                var nbb_formatted_code = \"%load_ext pycodestyle_magic\\n%pycodestyle_on\\n%load_ext nb_black\";\n",
       "                var nbb_cells = Jupyter.notebook.get_cells();\n",
       "                for (var i = 0; i < nbb_cells.length; ++i) {\n",
       "                    if (nbb_cells[i].input_prompt_number == nbb_cell_id) {\n",
       "                        if (nbb_cells[i].get_text() == nbb_unformatted_code) {\n",
       "                             nbb_cells[i].set_text(nbb_formatted_code);\n",
       "                        }\n",
       "                        break;\n",
       "                    }\n",
       "                }\n",
       "            }, 500);\n",
       "            "
      ],
      "text/plain": [
       "<IPython.core.display.Javascript object>"
      ]
     },
     "metadata": {},
     "output_type": "display_data"
    }
   ],
   "source": [
    "%load_ext pycodestyle_magic\n",
    "%pycodestyle_on\n",
    "%load_ext nb_black"
   ]
  },
  {
   "cell_type": "code",
   "execution_count": 3,
   "id": "precious-reach",
   "metadata": {},
   "outputs": [
    {
     "data": {
      "application/javascript": [
       "\n",
       "            setTimeout(function() {\n",
       "                var nbb_cell_id = 3;\n",
       "                var nbb_unformatted_code = \"df = pd.read_csv(\\\"./data/developer_survey_2020/survey_results_public.csv\\\")\";\n",
       "                var nbb_formatted_code = \"df = pd.read_csv(\\\"./data/developer_survey_2020/survey_results_public.csv\\\")\";\n",
       "                var nbb_cells = Jupyter.notebook.get_cells();\n",
       "                for (var i = 0; i < nbb_cells.length; ++i) {\n",
       "                    if (nbb_cells[i].input_prompt_number == nbb_cell_id) {\n",
       "                        if (nbb_cells[i].get_text() == nbb_unformatted_code) {\n",
       "                             nbb_cells[i].set_text(nbb_formatted_code);\n",
       "                        }\n",
       "                        break;\n",
       "                    }\n",
       "                }\n",
       "            }, 500);\n",
       "            "
      ],
      "text/plain": [
       "<IPython.core.display.Javascript object>"
      ]
     },
     "metadata": {},
     "output_type": "display_data"
    }
   ],
   "source": [
    "df = pd.read_csv(\"./data/developer_survey_2020/survey_results_public.csv\")"
   ]
  },
  {
   "cell_type": "code",
   "execution_count": 4,
   "id": "functional-penalty",
   "metadata": {},
   "outputs": [
    {
     "data": {
      "application/javascript": [
       "\n",
       "            setTimeout(function() {\n",
       "                var nbb_cell_id = 4;\n",
       "                var nbb_unformatted_code = \"schema = pd.read_csv(\\\"./data/developer_survey_2020/survey_results_schema.csv\\\")\";\n",
       "                var nbb_formatted_code = \"schema = pd.read_csv(\\\"./data/developer_survey_2020/survey_results_schema.csv\\\")\";\n",
       "                var nbb_cells = Jupyter.notebook.get_cells();\n",
       "                for (var i = 0; i < nbb_cells.length; ++i) {\n",
       "                    if (nbb_cells[i].input_prompt_number == nbb_cell_id) {\n",
       "                        if (nbb_cells[i].get_text() == nbb_unformatted_code) {\n",
       "                             nbb_cells[i].set_text(nbb_formatted_code);\n",
       "                        }\n",
       "                        break;\n",
       "                    }\n",
       "                }\n",
       "            }, 500);\n",
       "            "
      ],
      "text/plain": [
       "<IPython.core.display.Javascript object>"
      ]
     },
     "metadata": {},
     "output_type": "display_data"
    }
   ],
   "source": [
    "schema = pd.read_csv(\"./data/developer_survey_2020/survey_results_schema.csv\")"
   ]
  },
  {
   "cell_type": "code",
   "execution_count": 5,
   "id": "superb-norfolk",
   "metadata": {},
   "outputs": [
    {
     "data": {
      "text/html": [
       "<div>\n",
       "<style scoped>\n",
       "    .dataframe tbody tr th:only-of-type {\n",
       "        vertical-align: middle;\n",
       "    }\n",
       "\n",
       "    .dataframe tbody tr th {\n",
       "        vertical-align: top;\n",
       "    }\n",
       "\n",
       "    .dataframe thead th {\n",
       "        text-align: right;\n",
       "    }\n",
       "</style>\n",
       "<table border=\"1\" class=\"dataframe\">\n",
       "  <thead>\n",
       "    <tr style=\"text-align: right;\">\n",
       "      <th></th>\n",
       "      <th>Respondent</th>\n",
       "      <th>Age</th>\n",
       "      <th>CompTotal</th>\n",
       "      <th>ConvertedComp</th>\n",
       "      <th>WorkWeekHrs</th>\n",
       "    </tr>\n",
       "  </thead>\n",
       "  <tbody>\n",
       "    <tr>\n",
       "      <th>count</th>\n",
       "      <td>64461.000000</td>\n",
       "      <td>45446.000000</td>\n",
       "      <td>3.482600e+04</td>\n",
       "      <td>3.475600e+04</td>\n",
       "      <td>41151.000000</td>\n",
       "    </tr>\n",
       "    <tr>\n",
       "      <th>mean</th>\n",
       "      <td>32554.079738</td>\n",
       "      <td>30.834111</td>\n",
       "      <td>3.190464e+242</td>\n",
       "      <td>1.037561e+05</td>\n",
       "      <td>40.782174</td>\n",
       "    </tr>\n",
       "    <tr>\n",
       "      <th>std</th>\n",
       "      <td>18967.442360</td>\n",
       "      <td>9.585392</td>\n",
       "      <td>inf</td>\n",
       "      <td>2.268853e+05</td>\n",
       "      <td>17.816383</td>\n",
       "    </tr>\n",
       "    <tr>\n",
       "      <th>min</th>\n",
       "      <td>1.000000</td>\n",
       "      <td>1.000000</td>\n",
       "      <td>0.000000e+00</td>\n",
       "      <td>0.000000e+00</td>\n",
       "      <td>1.000000</td>\n",
       "    </tr>\n",
       "    <tr>\n",
       "      <th>25%</th>\n",
       "      <td>16116.000000</td>\n",
       "      <td>24.000000</td>\n",
       "      <td>2.000000e+04</td>\n",
       "      <td>2.464800e+04</td>\n",
       "      <td>40.000000</td>\n",
       "    </tr>\n",
       "    <tr>\n",
       "      <th>50%</th>\n",
       "      <td>32231.000000</td>\n",
       "      <td>29.000000</td>\n",
       "      <td>6.300000e+04</td>\n",
       "      <td>5.404900e+04</td>\n",
       "      <td>40.000000</td>\n",
       "    </tr>\n",
       "    <tr>\n",
       "      <th>75%</th>\n",
       "      <td>49142.000000</td>\n",
       "      <td>35.000000</td>\n",
       "      <td>1.250000e+05</td>\n",
       "      <td>9.500000e+04</td>\n",
       "      <td>44.000000</td>\n",
       "    </tr>\n",
       "    <tr>\n",
       "      <th>max</th>\n",
       "      <td>65639.000000</td>\n",
       "      <td>279.000000</td>\n",
       "      <td>1.111111e+247</td>\n",
       "      <td>2.000000e+06</td>\n",
       "      <td>475.000000</td>\n",
       "    </tr>\n",
       "  </tbody>\n",
       "</table>\n",
       "</div>"
      ],
      "text/plain": [
       "         Respondent           Age      CompTotal  ConvertedComp   WorkWeekHrs\n",
       "count  64461.000000  45446.000000   3.482600e+04   3.475600e+04  41151.000000\n",
       "mean   32554.079738     30.834111  3.190464e+242   1.037561e+05     40.782174\n",
       "std    18967.442360      9.585392            inf   2.268853e+05     17.816383\n",
       "min        1.000000      1.000000   0.000000e+00   0.000000e+00      1.000000\n",
       "25%    16116.000000     24.000000   2.000000e+04   2.464800e+04     40.000000\n",
       "50%    32231.000000     29.000000   6.300000e+04   5.404900e+04     40.000000\n",
       "75%    49142.000000     35.000000   1.250000e+05   9.500000e+04     44.000000\n",
       "max    65639.000000    279.000000  1.111111e+247   2.000000e+06    475.000000"
      ]
     },
     "execution_count": 5,
     "metadata": {},
     "output_type": "execute_result"
    },
    {
     "data": {
      "application/javascript": [
       "\n",
       "            setTimeout(function() {\n",
       "                var nbb_cell_id = 5;\n",
       "                var nbb_unformatted_code = \"df.describe()\";\n",
       "                var nbb_formatted_code = \"df.describe()\";\n",
       "                var nbb_cells = Jupyter.notebook.get_cells();\n",
       "                for (var i = 0; i < nbb_cells.length; ++i) {\n",
       "                    if (nbb_cells[i].input_prompt_number == nbb_cell_id) {\n",
       "                        if (nbb_cells[i].get_text() == nbb_unformatted_code) {\n",
       "                             nbb_cells[i].set_text(nbb_formatted_code);\n",
       "                        }\n",
       "                        break;\n",
       "                    }\n",
       "                }\n",
       "            }, 500);\n",
       "            "
      ],
      "text/plain": [
       "<IPython.core.display.Javascript object>"
      ]
     },
     "metadata": {},
     "output_type": "display_data"
    }
   ],
   "source": [
    "df.describe()"
   ]
  },
  {
   "cell_type": "code",
   "execution_count": 6,
   "id": "challenging-infection",
   "metadata": {},
   "outputs": [
    {
     "name": "stdout",
     "output_type": "stream",
     "text": [
      "<class 'pandas.core.frame.DataFrame'>\n",
      "RangeIndex: 64461 entries, 0 to 64460\n",
      "Data columns (total 61 columns):\n",
      " #   Column                        Non-Null Count  Dtype  \n",
      "---  ------                        --------------  -----  \n",
      " 0   Respondent                    64461 non-null  int64  \n",
      " 1   MainBranch                    64162 non-null  object \n",
      " 2   Hobbyist                      64416 non-null  object \n",
      " 3   Age                           45446 non-null  float64\n",
      " 4   Age1stCode                    57900 non-null  object \n",
      " 5   CompFreq                      40069 non-null  object \n",
      " 6   CompTotal                     34826 non-null  float64\n",
      " 7   ConvertedComp                 34756 non-null  float64\n",
      " 8   Country                       64072 non-null  object \n",
      " 9   CurrencyDesc                  45472 non-null  object \n",
      " 10  CurrencySymbol                45472 non-null  object \n",
      " 11  DatabaseDesireNextYear        44070 non-null  object \n",
      " 12  DatabaseWorkedWith            49537 non-null  object \n",
      " 13  DevType                       49370 non-null  object \n",
      " 14  EdLevel                       57431 non-null  object \n",
      " 15  Employment                    63854 non-null  object \n",
      " 16  Ethnicity                     45948 non-null  object \n",
      " 17  Gender                        50557 non-null  object \n",
      " 18  JobFactors                    49349 non-null  object \n",
      " 19  JobSat                        45194 non-null  object \n",
      " 20  JobSeek                       51727 non-null  object \n",
      " 21  LanguageDesireNextYear        54113 non-null  object \n",
      " 22  LanguageWorkedWith            57378 non-null  object \n",
      " 23  MiscTechDesireNextYear        42379 non-null  object \n",
      " 24  MiscTechWorkedWith            40314 non-null  object \n",
      " 25  NEWCollabToolsDesireNextYear  47287 non-null  object \n",
      " 26  NEWCollabToolsWorkedWith      52883 non-null  object \n",
      " 27  NEWDevOps                     42686 non-null  object \n",
      " 28  NEWDevOpsImpt                 41732 non-null  object \n",
      " 29  NEWEdImpt                     48465 non-null  object \n",
      " 30  NEWJobHunt                    42286 non-null  object \n",
      " 31  NEWJobHuntResearch            41022 non-null  object \n",
      " 32  NEWLearn                      56156 non-null  object \n",
      " 33  NEWOffTopic                   50804 non-null  object \n",
      " 34  NEWOnboardGood                42623 non-null  object \n",
      " 35  NEWOtherComms                 57205 non-null  object \n",
      " 36  NEWOvertime                   43231 non-null  object \n",
      " 37  NEWPurchaseResearch           37321 non-null  object \n",
      " 38  NEWPurpleLink                 54803 non-null  object \n",
      " 39  NEWSOSites                    58275 non-null  object \n",
      " 40  NEWStuck                      54983 non-null  object \n",
      " 41  OpSys                         56228 non-null  object \n",
      " 42  OrgSize                       44334 non-null  object \n",
      " 43  PlatformDesireNextYear        50605 non-null  object \n",
      " 44  PlatformWorkedWith            53843 non-null  object \n",
      " 45  PurchaseWhat                  39364 non-null  object \n",
      " 46  Sexuality                     43992 non-null  object \n",
      " 47  SOAccount                     56805 non-null  object \n",
      " 48  SOComm                        56476 non-null  object \n",
      " 49  SOPartFreq                    46792 non-null  object \n",
      " 50  SOVisitFreq                   56970 non-null  object \n",
      " 51  SurveyEase                    51802 non-null  object \n",
      " 52  SurveyLength                  51701 non-null  object \n",
      " 53  Trans                         49345 non-null  object \n",
      " 54  UndergradMajor                50995 non-null  object \n",
      " 55  WebframeDesireNextYear        40024 non-null  object \n",
      " 56  WebframeWorkedWith            42279 non-null  object \n",
      " 57  WelcomeChange                 52683 non-null  object \n",
      " 58  WorkWeekHrs                   41151 non-null  float64\n",
      " 59  YearsCode                     57684 non-null  object \n",
      " 60  YearsCodePro                  46349 non-null  object \n",
      "dtypes: float64(4), int64(1), object(56)\n",
      "memory usage: 30.0+ MB\n"
     ]
    },
    {
     "data": {
      "application/javascript": [
       "\n",
       "            setTimeout(function() {\n",
       "                var nbb_cell_id = 6;\n",
       "                var nbb_unformatted_code = \"df.info()\";\n",
       "                var nbb_formatted_code = \"df.info()\";\n",
       "                var nbb_cells = Jupyter.notebook.get_cells();\n",
       "                for (var i = 0; i < nbb_cells.length; ++i) {\n",
       "                    if (nbb_cells[i].input_prompt_number == nbb_cell_id) {\n",
       "                        if (nbb_cells[i].get_text() == nbb_unformatted_code) {\n",
       "                             nbb_cells[i].set_text(nbb_formatted_code);\n",
       "                        }\n",
       "                        break;\n",
       "                    }\n",
       "                }\n",
       "            }, 500);\n",
       "            "
      ],
      "text/plain": [
       "<IPython.core.display.Javascript object>"
      ]
     },
     "metadata": {},
     "output_type": "display_data"
    }
   ],
   "source": [
    "df.info()"
   ]
  },
  {
   "cell_type": "code",
   "execution_count": 7,
   "id": "viral-triple",
   "metadata": {},
   "outputs": [
    {
     "data": {
      "text/plain": [
       "array([[<AxesSubplot:title={'center':'Age'}>,\n",
       "        <AxesSubplot:title={'center':'CompTotal'}>],\n",
       "       [<AxesSubplot:title={'center':'ConvertedComp'}>,\n",
       "        <AxesSubplot:title={'center':'WorkWeekHrs'}>]], dtype=object)"
      ]
     },
     "execution_count": 7,
     "metadata": {},
     "output_type": "execute_result"
    },
    {
     "data": {
      "image/png": "[encoded data removed]",
      "text/plain": [
       "<Figure size 432x288 with 4 Axes>"
      ]
     },
     "metadata": {
      "needs_background": "light"
     },
     "output_type": "display_data"
    },
    {
     "data": {
      "application/javascript": [
       "\n",
       "            setTimeout(function() {\n",
       "                var nbb_cell_id = 7;\n",
       "                var nbb_unformatted_code = \"df[[\\\"Age\\\", \\\"CompTotal\\\", \\\"ConvertedComp\\\", \\\"WorkWeekHrs\\\"]].hist()\";\n",
       "                var nbb_formatted_code = \"df[[\\\"Age\\\", \\\"CompTotal\\\", \\\"ConvertedComp\\\", \\\"WorkWeekHrs\\\"]].hist()\";\n",
       "                var nbb_cells = Jupyter.notebook.get_cells();\n",
       "                for (var i = 0; i < nbb_cells.length; ++i) {\n",
       "                    if (nbb_cells[i].input_prompt_number == nbb_cell_id) {\n",
       "                        if (nbb_cells[i].get_text() == nbb_unformatted_code) {\n",
       "                             nbb_cells[i].set_text(nbb_formatted_code);\n",
       "                        }\n",
       "                        break;\n",
       "                    }\n",
       "                }\n",
       "            }, 500);\n",
       "            "
      ],
      "text/plain": [
       "<IPython.core.display.Javascript object>"
      ]
     },
     "metadata": {},
     "output_type": "display_data"
    }
   ],
   "source": [
    "df[[\"Age\", \"CompTotal\", \"ConvertedComp\", \"WorkWeekHrs\"]].hist()"
   ]
  },
  {
   "cell_type": "code",
   "execution_count": 8,
   "id": "sufficient-briefing",
   "metadata": {},
   "outputs": [
    {
     "data": {
      "text/plain": [
       "Sometimes: 1-2 days per month but less than weekly          11547\n",
       "Often: 1-2 days per week or more                            11027\n",
       "Occasionally: 1-2 days per quarter but less than monthly     9468\n",
       "Rarely: 1-2 days per year or less                            6471\n",
       "Never                                                        4718\n",
       "Name: NEWOvertime, dtype: int64"
      ]
     },
     "execution_count": 8,
     "metadata": {},
     "output_type": "execute_result"
    },
    {
     "data": {
      "application/javascript": [
       "\n",
       "            setTimeout(function() {\n",
       "                var nbb_cell_id = 8;\n",
       "                var nbb_unformatted_code = \"df[\\\"NEWOvertime\\\"].value_counts()\";\n",
       "                var nbb_formatted_code = \"df[\\\"NEWOvertime\\\"].value_counts()\";\n",
       "                var nbb_cells = Jupyter.notebook.get_cells();\n",
       "                for (var i = 0; i < nbb_cells.length; ++i) {\n",
       "                    if (nbb_cells[i].input_prompt_number == nbb_cell_id) {\n",
       "                        if (nbb_cells[i].get_text() == nbb_unformatted_code) {\n",
       "                             nbb_cells[i].set_text(nbb_formatted_code);\n",
       "                        }\n",
       "                        break;\n",
       "                    }\n",
       "                }\n",
       "            }, 500);\n",
       "            "
      ],
      "text/plain": [
       "<IPython.core.display.Javascript object>"
      ]
     },
     "metadata": {},
     "output_type": "display_data"
    }
   ],
   "source": [
    "df[\"NEWOvertime\"].value_counts()"
   ]
  },
  {
   "cell_type": "code",
   "execution_count": 9,
   "id": "running-possibility",
   "metadata": {},
   "outputs": [
    {
     "data": {
      "text/plain": [
       "array(['Often: 1-2 days per week or more', nan,\n",
       "       'Occasionally: 1-2 days per quarter but less than monthly',\n",
       "       'Never', 'Sometimes: 1-2 days per month but less than weekly',\n",
       "       'Rarely: 1-2 days per year or less'], dtype=object)"
      ]
     },
     "execution_count": 9,
     "metadata": {},
     "output_type": "execute_result"
    },
    {
     "data": {
      "application/javascript": [
       "\n",
       "            setTimeout(function() {\n",
       "                var nbb_cell_id = 9;\n",
       "                var nbb_unformatted_code = \"df[\\\"NEWOvertime\\\"].unique()\";\n",
       "                var nbb_formatted_code = \"df[\\\"NEWOvertime\\\"].unique()\";\n",
       "                var nbb_cells = Jupyter.notebook.get_cells();\n",
       "                for (var i = 0; i < nbb_cells.length; ++i) {\n",
       "                    if (nbb_cells[i].input_prompt_number == nbb_cell_id) {\n",
       "                        if (nbb_cells[i].get_text() == nbb_unformatted_code) {\n",
       "                             nbb_cells[i].set_text(nbb_formatted_code);\n",
       "                        }\n",
       "                        break;\n",
       "                    }\n",
       "                }\n",
       "            }, 500);\n",
       "            "
      ],
      "text/plain": [
       "<IPython.core.display.Javascript object>"
      ]
     },
     "metadata": {},
     "output_type": "display_data"
    }
   ],
   "source": [
    "df[\"NEWOvertime\"].unique()"
   ]
  },
  {
   "cell_type": "code",
   "execution_count": 10,
   "id": "centered-cuisine",
   "metadata": {},
   "outputs": [
    {
     "data": {
      "text/plain": [
       "array(['I am a developer by profession', 'I code primarily as a hobby',\n",
       "       'I used to be a developer by profession, but no longer am',\n",
       "       'I am not primarily a developer, but I write code sometimes as part of my work',\n",
       "       'I am a student who is learning to code', nan], dtype=object)"
      ]
     },
     "execution_count": 10,
     "metadata": {},
     "output_type": "execute_result"
    },
    {
     "data": {
      "application/javascript": [
       "\n",
       "            setTimeout(function() {\n",
       "                var nbb_cell_id = 10;\n",
       "                var nbb_unformatted_code = \"df.MainBranch.unique()\";\n",
       "                var nbb_formatted_code = \"df.MainBranch.unique()\";\n",
       "                var nbb_cells = Jupyter.notebook.get_cells();\n",
       "                for (var i = 0; i < nbb_cells.length; ++i) {\n",
       "                    if (nbb_cells[i].input_prompt_number == nbb_cell_id) {\n",
       "                        if (nbb_cells[i].get_text() == nbb_unformatted_code) {\n",
       "                             nbb_cells[i].set_text(nbb_formatted_code);\n",
       "                        }\n",
       "                        break;\n",
       "                    }\n",
       "                }\n",
       "            }, 500);\n",
       "            "
      ],
      "text/plain": [
       "<IPython.core.display.Javascript object>"
      ]
     },
     "metadata": {},
     "output_type": "display_data"
    }
   ],
   "source": [
    "df.MainBranch.unique()"
   ]
  },
  {
   "cell_type": "code",
   "execution_count": 11,
   "id": "legendary-window",
   "metadata": {},
   "outputs": [
    {
     "data": {
      "application/javascript": [
       "\n",
       "            setTimeout(function() {\n",
       "                var nbb_cell_id = 11;\n",
       "                var nbb_unformatted_code = \"dev = df[df[\\\"MainBranch\\\"] == \\\"I am a developer by profession\\\"]\";\n",
       "                var nbb_formatted_code = \"dev = df[df[\\\"MainBranch\\\"] == \\\"I am a developer by profession\\\"]\";\n",
       "                var nbb_cells = Jupyter.notebook.get_cells();\n",
       "                for (var i = 0; i < nbb_cells.length; ++i) {\n",
       "                    if (nbb_cells[i].input_prompt_number == nbb_cell_id) {\n",
       "                        if (nbb_cells[i].get_text() == nbb_unformatted_code) {\n",
       "                             nbb_cells[i].set_text(nbb_formatted_code);\n",
       "                        }\n",
       "                        break;\n",
       "                    }\n",
       "                }\n",
       "            }, 500);\n",
       "            "
      ],
      "text/plain": [
       "<IPython.core.display.Javascript object>"
      ]
     },
     "metadata": {},
     "output_type": "display_data"
    }
   ],
   "source": [
    "dev = df[df[\"MainBranch\"] == \"I am a developer by profession\"]"
   ]
  },
  {
   "cell_type": "code",
   "execution_count": 12,
   "id": "fundamental-geography",
   "metadata": {},
   "outputs": [
    {
     "data": {
      "text/plain": [
       "39032"
      ]
     },
     "execution_count": 12,
     "metadata": {},
     "output_type": "execute_result"
    },
    {
     "data": {
      "application/javascript": [
       "\n",
       "            setTimeout(function() {\n",
       "                var nbb_cell_id = 12;\n",
       "                var nbb_unformatted_code = \"dev[dev.NEWOvertime.notnull()][\\\"NEWOvertime\\\"].count()\";\n",
       "                var nbb_formatted_code = \"dev[dev.NEWOvertime.notnull()][\\\"NEWOvertime\\\"].count()\";\n",
       "                var nbb_cells = Jupyter.notebook.get_cells();\n",
       "                for (var i = 0; i < nbb_cells.length; ++i) {\n",
       "                    if (nbb_cells[i].input_prompt_number == nbb_cell_id) {\n",
       "                        if (nbb_cells[i].get_text() == nbb_unformatted_code) {\n",
       "                             nbb_cells[i].set_text(nbb_formatted_code);\n",
       "                        }\n",
       "                        break;\n",
       "                    }\n",
       "                }\n",
       "            }, 500);\n",
       "            "
      ],
      "text/plain": [
       "<IPython.core.display.Javascript object>"
      ]
     },
     "metadata": {},
     "output_type": "display_data"
    }
   ],
   "source": [
    "dev[dev.NEWOvertime.notnull()][\"NEWOvertime\"].count()"
   ]
  },
  {
   "cell_type": "code",
   "execution_count": 13,
   "id": "handmade-peninsula",
   "metadata": {},
   "outputs": [
    {
     "name": "stderr",
     "output_type": "stream",
     "text": [
      "3:80: E501 line too long (83 > 79 characters)\n"
     ]
    },
    {
     "data": {
      "application/javascript": [
       "\n",
       "            setTimeout(function() {\n",
       "                var nbb_cell_id = 13;\n",
       "                var nbb_unformatted_code = \"def get_group_by_df(df, to_group_by):\\n    df = pd.DataFrame(\\n        df.groupby(to_group_by)[\\\"NEWOvertime\\\"].count().sort_values(ascending=False)\\n    )\\n    df[to_group_by] = df.index\\n    df.reset_index(inplace=True, drop=True)\\n    return df\";\n",
       "                var nbb_formatted_code = \"def get_group_by_df(df, to_group_by):\\n    df = pd.DataFrame(\\n        df.groupby(to_group_by)[\\\"NEWOvertime\\\"].count().sort_values(ascending=False)\\n    )\\n    df[to_group_by] = df.index\\n    df.reset_index(inplace=True, drop=True)\\n    return df\";\n",
       "                var nbb_cells = Jupyter.notebook.get_cells();\n",
       "                for (var i = 0; i < nbb_cells.length; ++i) {\n",
       "                    if (nbb_cells[i].input_prompt_number == nbb_cell_id) {\n",
       "                        if (nbb_cells[i].get_text() == nbb_unformatted_code) {\n",
       "                             nbb_cells[i].set_text(nbb_formatted_code);\n",
       "                        }\n",
       "                        break;\n",
       "                    }\n",
       "                }\n",
       "            }, 500);\n",
       "            "
      ],
      "text/plain": [
       "<IPython.core.display.Javascript object>"
      ]
     },
     "metadata": {},
     "output_type": "display_data"
    }
   ],
   "source": [
    "def get_group_by_df(df, to_group_by):\n",
    "    \"\"\" return overtime data \"\"\"\n",
    "    df = pd.DataFrame(\n",
    "        df.groupby(to_group_by)[\"NEWOvertime\"].count().sort_values(ascending=False)\n",
    "    )\n",
    "    df[to_group_by] = df.index\n",
    "    df.reset_index(inplace=True, drop=True)\n",
    "    return df"
   ]
  },
  {
   "cell_type": "code",
   "execution_count": 14,
   "id": "informative-identification",
   "metadata": {},
   "outputs": [
    {
     "name": "stderr",
     "output_type": "stream",
     "text": [
      "9:80: E501 line too long (82 > 79 characters)\n"
     ]
    },
    {
     "data": {
      "application/javascript": [
       "\n",
       "            setTimeout(function() {\n",
       "                var nbb_cell_id = 14;\n",
       "                var nbb_unformatted_code = \"def get_overtime_group_by_df(df, to_group_by, frequent_overtime):\\n    overtime_df = pd.DataFrame(\\n        df[df.NEWOvertime == frequent_overtime]\\n        .groupby(to_group_by)[\\\"NEWOvertime\\\"]\\n        .count()\\n        .sort_values(ascending=False)\\n    )\\n    overtime_df[to_group_by] = overtime_df.index\\n    overtime_df = overtime_df.rename(columns={\\\"NEWOvertime\\\": \\\"freqeunt_overtime\\\"})\\n    overtime_df.reset_index(inplace=True, drop=True)\\n    return overtime_df\";\n",
       "                var nbb_formatted_code = \"def get_overtime_group_by_df(df, to_group_by, frequent_overtime):\\n    overtime_df = pd.DataFrame(\\n        df[df.NEWOvertime == frequent_overtime]\\n        .groupby(to_group_by)[\\\"NEWOvertime\\\"]\\n        .count()\\n        .sort_values(ascending=False)\\n    )\\n    overtime_df[to_group_by] = overtime_df.index\\n    overtime_df = overtime_df.rename(columns={\\\"NEWOvertime\\\": \\\"freqeunt_overtime\\\"})\\n    overtime_df.reset_index(inplace=True, drop=True)\\n    return overtime_df\";\n",
       "                var nbb_cells = Jupyter.notebook.get_cells();\n",
       "                for (var i = 0; i < nbb_cells.length; ++i) {\n",
       "                    if (nbb_cells[i].input_prompt_number == nbb_cell_id) {\n",
       "                        if (nbb_cells[i].get_text() == nbb_unformatted_code) {\n",
       "                             nbb_cells[i].set_text(nbb_formatted_code);\n",
       "                        }\n",
       "                        break;\n",
       "                    }\n",
       "                }\n",
       "            }, 500);\n",
       "            "
      ],
      "text/plain": [
       "<IPython.core.display.Javascript object>"
      ]
     },
     "metadata": {},
     "output_type": "display_data"
    }
   ],
   "source": [
    "def get_overtime_group_by_df(df, to_group_by, frequent_overtime):\n",
    "    \"\"\" returns overtime df with in a specific group for frquent time\"\"\"\n",
    "    overtime_df = pd.DataFrame(\n",
    "        df[df.NEWOvertime == frequent_overtime]\n",
    "        .groupby(to_group_by)[\"NEWOvertime\"]\n",
    "        .count()\n",
    "        .sort_values(ascending=False)\n",
    "    )\n",
    "    overtime_df[to_group_by] = overtime_df.index\n",
    "    overtime_df = overtime_df.rename(columns={\"NEWOvertime\": \"freqeunt_overtime\"})\n",
    "    overtime_df.reset_index(inplace=True, drop=True)\n",
    "    return overtime_df"
   ]
  },
  {
   "cell_type": "code",
   "execution_count": 15,
   "id": "frank-geometry",
   "metadata": {},
   "outputs": [
    {
     "data": {
      "application/javascript": [
       "\n",
       "            setTimeout(function() {\n",
       "                var nbb_cell_id = 15;\n",
       "                var nbb_unformatted_code = \"frequent_overtime = \\\"Often: 1-2 days per week or more\\\"\";\n",
       "                var nbb_formatted_code = \"frequent_overtime = \\\"Often: 1-2 days per week or more\\\"\";\n",
       "                var nbb_cells = Jupyter.notebook.get_cells();\n",
       "                for (var i = 0; i < nbb_cells.length; ++i) {\n",
       "                    if (nbb_cells[i].input_prompt_number == nbb_cell_id) {\n",
       "                        if (nbb_cells[i].get_text() == nbb_unformatted_code) {\n",
       "                             nbb_cells[i].set_text(nbb_formatted_code);\n",
       "                        }\n",
       "                        break;\n",
       "                    }\n",
       "                }\n",
       "            }, 500);\n",
       "            "
      ],
      "text/plain": [
       "<IPython.core.display.Javascript object>"
      ]
     },
     "metadata": {},
     "output_type": "display_data"
    }
   ],
   "source": [
    "frequent_overtime = \"Often: 1-2 days per week or more\""
   ]
  },
  {
   "cell_type": "code",
   "execution_count": 16,
   "id": "sapphire-feedback",
   "metadata": {},
   "outputs": [
    {
     "data": {
      "application/javascript": [
       "\n",
       "            setTimeout(function() {\n",
       "                var nbb_cell_id = 16;\n",
       "                var nbb_unformatted_code = \"# Q1: what percent of devs do freqeunt overtime\\nq1_res = dev[\\\"NEWOvertime\\\"].value_counts() / dev.shape[0] * 100\\nq1_res = pd.DataFrame(q1_res)\\nq1_res[\\\"frequent_overtime(%)\\\"] = q1_res[\\\"NEWOvertime\\\"]\\nq1_res[\\\"NEWOvertime\\\"] = q1_res.index\\nq1_res.reset_index(inplace=True, drop=True)\";\n",
       "                var nbb_formatted_code = \"# Q1: what percent of devs do freqeunt overtime\\nq1_res = dev[\\\"NEWOvertime\\\"].value_counts() / dev.shape[0] * 100\\nq1_res = pd.DataFrame(q1_res)\\nq1_res[\\\"frequent_overtime(%)\\\"] = q1_res[\\\"NEWOvertime\\\"]\\nq1_res[\\\"NEWOvertime\\\"] = q1_res.index\\nq1_res.reset_index(inplace=True, drop=True)\";\n",
       "                var nbb_cells = Jupyter.notebook.get_cells();\n",
       "                for (var i = 0; i < nbb_cells.length; ++i) {\n",
       "                    if (nbb_cells[i].input_prompt_number == nbb_cell_id) {\n",
       "                        if (nbb_cells[i].get_text() == nbb_unformatted_code) {\n",
       "                             nbb_cells[i].set_text(nbb_formatted_code);\n",
       "                        }\n",
       "                        break;\n",
       "                    }\n",
       "                }\n",
       "            }, 500);\n",
       "            "
      ],
      "text/plain": [
       "<IPython.core.display.Javascript object>"
      ]
     },
     "metadata": {},
     "output_type": "display_data"
    }
   ],
   "source": [
    "# Q1: what percent of devs do freqeunt overtime\n",
    "q1_res = dev[\"NEWOvertime\"].value_counts() / dev.shape[0] * 100\n",
    "q1_res = pd.DataFrame(q1_res)\n",
    "q1_res[\"frequent_overtime(%)\"] = q1_res[\"NEWOvertime\"]\n",
    "q1_res[\"NEWOvertime\"] = q1_res.index\n",
    "q1_res.reset_index(inplace=True, drop=True)"
   ]
  },
  {
   "cell_type": "code",
   "execution_count": 17,
   "id": "normal-candle",
   "metadata": {},
   "outputs": [
    {
     "name": "stdout",
     "output_type": "stream",
     "text": [
      "                                         NEWOvertime  frequent_overtime(%)\n",
      "0  Sometimes: 1-2 days per month but less than we...             21.963003\n",
      "1                   Often: 1-2 days per week or more             20.386498\n",
      "2  Occasionally: 1-2 days per quarter but less th...             18.312038\n",
      "3                  Rarely: 1-2 days per year or less             12.734940\n",
      "4                                              Never              9.310703\n"
     ]
    },
    {
     "data": {
      "application/javascript": [
       "\n",
       "            setTimeout(function() {\n",
       "                var nbb_cell_id = 17;\n",
       "                var nbb_unformatted_code = \"print(q1_res)\";\n",
       "                var nbb_formatted_code = \"print(q1_res)\";\n",
       "                var nbb_cells = Jupyter.notebook.get_cells();\n",
       "                for (var i = 0; i < nbb_cells.length; ++i) {\n",
       "                    if (nbb_cells[i].input_prompt_number == nbb_cell_id) {\n",
       "                        if (nbb_cells[i].get_text() == nbb_unformatted_code) {\n",
       "                             nbb_cells[i].set_text(nbb_formatted_code);\n",
       "                        }\n",
       "                        break;\n",
       "                    }\n",
       "                }\n",
       "            }, 500);\n",
       "            "
      ],
      "text/plain": [
       "<IPython.core.display.Javascript object>"
      ]
     },
     "metadata": {},
     "output_type": "display_data"
    }
   ],
   "source": [
    "print(q1_res)"
   ]
  },
  {
   "cell_type": "code",
   "execution_count": 18,
   "id": "noble-geography",
   "metadata": {},
   "outputs": [
    {
     "data": {
      "text/plain": [
       "<AxesSubplot:ylabel='NEWOvertime'>"
      ]
     },
     "execution_count": 18,
     "metadata": {},
     "output_type": "execute_result"
    },
    {
     "data": {
      "image/png": "[encoded data removed]",
      "text/plain": [
       "<Figure size 504x360 with 1 Axes>"
      ]
     },
     "metadata": {
      "needs_background": "light"
     },
     "output_type": "display_data"
    },
    {
     "data": {
      "application/javascript": [
       "\n",
       "            setTimeout(function() {\n",
       "                var nbb_cell_id = 18;\n",
       "                var nbb_unformatted_code = \"q1_res.sort_values(by=\\\"frequent_overtime(%)\\\").plot(\\n    x=\\\"NEWOvertime\\\", y=\\\"frequent_overtime(%)\\\", kind=\\\"barh\\\", figsize=(7, 5)\\n)\";\n",
       "                var nbb_formatted_code = \"q1_res.sort_values(by=\\\"frequent_overtime(%)\\\").plot(\\n    x=\\\"NEWOvertime\\\", y=\\\"frequent_overtime(%)\\\", kind=\\\"barh\\\", figsize=(7, 5)\\n)\";\n",
       "                var nbb_cells = Jupyter.notebook.get_cells();\n",
       "                for (var i = 0; i < nbb_cells.length; ++i) {\n",
       "                    if (nbb_cells[i].input_prompt_number == nbb_cell_id) {\n",
       "                        if (nbb_cells[i].get_text() == nbb_unformatted_code) {\n",
       "                             nbb_cells[i].set_text(nbb_formatted_code);\n",
       "                        }\n",
       "                        break;\n",
       "                    }\n",
       "                }\n",
       "            }, 500);\n",
       "            "
      ],
      "text/plain": [
       "<IPython.core.display.Javascript object>"
      ]
     },
     "metadata": {},
     "output_type": "display_data"
    }
   ],
   "source": [
    "q1_res.sort_values(by=\"frequent_overtime(%)\").plot(\n",
    "    x=\"NEWOvertime\", y=\"frequent_overtime(%)\", kind=\"barh\", figsize=(7, 5)\n",
    ")"
   ]
  },
  {
   "cell_type": "code",
   "execution_count": 19,
   "id": "complete-samoa",
   "metadata": {},
   "outputs": [
    {
     "name": "stderr",
     "output_type": "stream",
     "text": [
      "3:80: E501 line too long (80 > 79 characters)\n"
     ]
    },
    {
     "data": {
      "application/javascript": [
       "\n",
       "            setTimeout(function() {\n",
       "                var nbb_cell_id = 19;\n",
       "                var nbb_unformatted_code = \"# Q2: do small organizations require more frequent overtime.\\nsmall_org = get_group_by_df(dev, \\\"OrgSize\\\")\\nsmall_org_overtime = get_overtime_group_by_df(dev, \\\"OrgSize\\\", frequent_overtime)\";\n",
       "                var nbb_formatted_code = \"# Q2: do small organizations require more frequent overtime.\\nsmall_org = get_group_by_df(dev, \\\"OrgSize\\\")\\nsmall_org_overtime = get_overtime_group_by_df(dev, \\\"OrgSize\\\", frequent_overtime)\";\n",
       "                var nbb_cells = Jupyter.notebook.get_cells();\n",
       "                for (var i = 0; i < nbb_cells.length; ++i) {\n",
       "                    if (nbb_cells[i].input_prompt_number == nbb_cell_id) {\n",
       "                        if (nbb_cells[i].get_text() == nbb_unformatted_code) {\n",
       "                             nbb_cells[i].set_text(nbb_formatted_code);\n",
       "                        }\n",
       "                        break;\n",
       "                    }\n",
       "                }\n",
       "            }, 500);\n",
       "            "
      ],
      "text/plain": [
       "<IPython.core.display.Javascript object>"
      ]
     },
     "metadata": {},
     "output_type": "display_data"
    }
   ],
   "source": [
    "# Q2: do small organizations require more frequent overtime.\n",
    "small_org = get_group_by_df(dev, \"OrgSize\")\n",
    "small_org_overtime = get_overtime_group_by_df(dev, \"OrgSize\", frequent_overtime)"
   ]
  },
  {
   "cell_type": "code",
   "execution_count": 20,
   "id": "central-monitoring",
   "metadata": {},
   "outputs": [
    {
     "name": "stderr",
     "output_type": "stream",
     "text": [
      "2:80: E501 line too long (88 > 79 characters)\n"
     ]
    },
    {
     "data": {
      "application/javascript": [
       "\n",
       "            setTimeout(function() {\n",
       "                var nbb_cell_id = 20;\n",
       "                var nbb_unformatted_code = \"q2_res = pd.merge(\\n    small_org_overtime, small_org, left_on=[\\\"OrgSize\\\"], right_on=[\\\"OrgSize\\\"], how=\\\"left\\\"\\n)\\nq2_res[\\\"frequent_overtime(%)\\\"] = (\\n    q2_res[\\\"freqeunt_overtime\\\"] / q2_res[\\\"NEWOvertime\\\"]\\n) * 100\";\n",
       "                var nbb_formatted_code = \"q2_res = pd.merge(\\n    small_org_overtime, small_org, left_on=[\\\"OrgSize\\\"], right_on=[\\\"OrgSize\\\"], how=\\\"left\\\"\\n)\\nq2_res[\\\"frequent_overtime(%)\\\"] = (\\n    q2_res[\\\"freqeunt_overtime\\\"] / q2_res[\\\"NEWOvertime\\\"]\\n) * 100\";\n",
       "                var nbb_cells = Jupyter.notebook.get_cells();\n",
       "                for (var i = 0; i < nbb_cells.length; ++i) {\n",
       "                    if (nbb_cells[i].input_prompt_number == nbb_cell_id) {\n",
       "                        if (nbb_cells[i].get_text() == nbb_unformatted_code) {\n",
       "                             nbb_cells[i].set_text(nbb_formatted_code);\n",
       "                        }\n",
       "                        break;\n",
       "                    }\n",
       "                }\n",
       "            }, 500);\n",
       "            "
      ],
      "text/plain": [
       "<IPython.core.display.Javascript object>"
      ]
     },
     "metadata": {},
     "output_type": "display_data"
    }
   ],
   "source": [
    "q2_res = pd.merge(\n",
    "    small_org_overtime, small_org, left_on=[\"OrgSize\"], right_on=[\"OrgSize\"], how=\"left\"\n",
    ")\n",
    "q2_res[\"frequent_overtime(%)\"] = (\n",
    "    q2_res[\"freqeunt_overtime\"] / q2_res[\"NEWOvertime\"]\n",
    ") * 100"
   ]
  },
  {
   "cell_type": "code",
   "execution_count": 21,
   "id": "chicken-latvia",
   "metadata": {},
   "outputs": [
    {
     "data": {
      "text/html": [
       "<div>\n",
       "<style scoped>\n",
       "    .dataframe tbody tr th:only-of-type {\n",
       "        vertical-align: middle;\n",
       "    }\n",
       "\n",
       "    .dataframe tbody tr th {\n",
       "        vertical-align: top;\n",
       "    }\n",
       "\n",
       "    .dataframe thead th {\n",
       "        text-align: right;\n",
       "    }\n",
       "</style>\n",
       "<table border=\"1\" class=\"dataframe\">\n",
       "  <thead>\n",
       "    <tr style=\"text-align: right;\">\n",
       "      <th></th>\n",
       "      <th>freqeunt_overtime</th>\n",
       "      <th>OrgSize</th>\n",
       "      <th>NEWOvertime</th>\n",
       "      <th>frequent_overtime(%)</th>\n",
       "    </tr>\n",
       "  </thead>\n",
       "  <tbody>\n",
       "    <tr>\n",
       "      <th>6</th>\n",
       "      <td>666</td>\n",
       "      <td>Just me - I am a freelancer, sole proprietor, ...</td>\n",
       "      <td>1716</td>\n",
       "      <td>38.811189</td>\n",
       "    </tr>\n",
       "    <tr>\n",
       "      <th>2</th>\n",
       "      <td>1313</td>\n",
       "      <td>2 to 9 employees</td>\n",
       "      <td>3889</td>\n",
       "      <td>33.761893</td>\n",
       "    </tr>\n",
       "    <tr>\n",
       "      <th>4</th>\n",
       "      <td>992</td>\n",
       "      <td>10 to 19 employees</td>\n",
       "      <td>3677</td>\n",
       "      <td>26.978515</td>\n",
       "    </tr>\n",
       "    <tr>\n",
       "      <th>0</th>\n",
       "      <td>2112</td>\n",
       "      <td>20 to 99 employees</td>\n",
       "      <td>8543</td>\n",
       "      <td>24.721995</td>\n",
       "    </tr>\n",
       "    <tr>\n",
       "      <th>3</th>\n",
       "      <td>1174</td>\n",
       "      <td>10,000 or more employees</td>\n",
       "      <td>5148</td>\n",
       "      <td>22.804973</td>\n",
       "    </tr>\n",
       "    <tr>\n",
       "      <th>1</th>\n",
       "      <td>1591</td>\n",
       "      <td>100 to 499 employees</td>\n",
       "      <td>7297</td>\n",
       "      <td>21.803481</td>\n",
       "    </tr>\n",
       "    <tr>\n",
       "      <th>7</th>\n",
       "      <td>534</td>\n",
       "      <td>500 to 999 employees</td>\n",
       "      <td>2489</td>\n",
       "      <td>21.454399</td>\n",
       "    </tr>\n",
       "    <tr>\n",
       "      <th>8</th>\n",
       "      <td>305</td>\n",
       "      <td>5,000 to 9,999 employees</td>\n",
       "      <td>1484</td>\n",
       "      <td>20.552561</td>\n",
       "    </tr>\n",
       "    <tr>\n",
       "      <th>5</th>\n",
       "      <td>779</td>\n",
       "      <td>1,000 to 4,999 employees</td>\n",
       "      <td>4051</td>\n",
       "      <td>19.229820</td>\n",
       "    </tr>\n",
       "  </tbody>\n",
       "</table>\n",
       "</div>"
      ],
      "text/plain": [
       "   freqeunt_overtime                                            OrgSize  \\\n",
       "6                666  Just me - I am a freelancer, sole proprietor, ...   \n",
       "2               1313                                   2 to 9 employees   \n",
       "4                992                                 10 to 19 employees   \n",
       "0               2112                                 20 to 99 employees   \n",
       "3               1174                           10,000 or more employees   \n",
       "1               1591                               100 to 499 employees   \n",
       "7                534                               500 to 999 employees   \n",
       "8                305                           5,000 to 9,999 employees   \n",
       "5                779                           1,000 to 4,999 employees   \n",
       "\n",
       "   NEWOvertime  frequent_overtime(%)  \n",
       "6         1716             38.811189  \n",
       "2         3889             33.761893  \n",
       "4         3677             26.978515  \n",
       "0         8543             24.721995  \n",
       "3         5148             22.804973  \n",
       "1         7297             21.803481  \n",
       "7         2489             21.454399  \n",
       "8         1484             20.552561  \n",
       "5         4051             19.229820  "
      ]
     },
     "execution_count": 21,
     "metadata": {},
     "output_type": "execute_result"
    },
    {
     "data": {
      "application/javascript": [
       "\n",
       "            setTimeout(function() {\n",
       "                var nbb_cell_id = 21;\n",
       "                var nbb_unformatted_code = \"q2_res.sort_values(by=\\\"frequent_overtime(%)\\\", ascending=False).head(10)\";\n",
       "                var nbb_formatted_code = \"q2_res.sort_values(by=\\\"frequent_overtime(%)\\\", ascending=False).head(10)\";\n",
       "                var nbb_cells = Jupyter.notebook.get_cells();\n",
       "                for (var i = 0; i < nbb_cells.length; ++i) {\n",
       "                    if (nbb_cells[i].input_prompt_number == nbb_cell_id) {\n",
       "                        if (nbb_cells[i].get_text() == nbb_unformatted_code) {\n",
       "                             nbb_cells[i].set_text(nbb_formatted_code);\n",
       "                        }\n",
       "                        break;\n",
       "                    }\n",
       "                }\n",
       "            }, 500);\n",
       "            "
      ],
      "text/plain": [
       "<IPython.core.display.Javascript object>"
      ]
     },
     "metadata": {},
     "output_type": "display_data"
    }
   ],
   "source": [
    "q2_res.sort_values(by=\"frequent_overtime(%)\", ascending=False).head(10)"
   ]
  },
  {
   "cell_type": "code",
   "execution_count": 22,
   "id": "requested-vacation",
   "metadata": {},
   "outputs": [
    {
     "data": {
      "text/plain": [
       "<AxesSubplot:ylabel='OrgSize'>"
      ]
     },
     "execution_count": 22,
     "metadata": {},
     "output_type": "execute_result"
    },
    {
     "data": {
      "image/png": "[encoded data removed]",
      "text/plain": [
       "<Figure size 504x360 with 1 Axes>"
      ]
     },
     "metadata": {
      "needs_background": "light"
     },
     "output_type": "display_data"
    },
    {
     "data": {
      "application/javascript": [
       "\n",
       "            setTimeout(function() {\n",
       "                var nbb_cell_id = 22;\n",
       "                var nbb_unformatted_code = \"q2_res.sort_values(by=\\\"frequent_overtime(%)\\\", ascending=True).plot(\\n    y=\\\"frequent_overtime(%)\\\", x=\\\"OrgSize\\\", kind=\\\"barh\\\", figsize=(7, 5)\\n)\";\n",
       "                var nbb_formatted_code = \"q2_res.sort_values(by=\\\"frequent_overtime(%)\\\", ascending=True).plot(\\n    y=\\\"frequent_overtime(%)\\\", x=\\\"OrgSize\\\", kind=\\\"barh\\\", figsize=(7, 5)\\n)\";\n",
       "                var nbb_cells = Jupyter.notebook.get_cells();\n",
       "                for (var i = 0; i < nbb_cells.length; ++i) {\n",
       "                    if (nbb_cells[i].input_prompt_number == nbb_cell_id) {\n",
       "                        if (nbb_cells[i].get_text() == nbb_unformatted_code) {\n",
       "                             nbb_cells[i].set_text(nbb_formatted_code);\n",
       "                        }\n",
       "                        break;\n",
       "                    }\n",
       "                }\n",
       "            }, 500);\n",
       "            "
      ],
      "text/plain": [
       "<IPython.core.display.Javascript object>"
      ]
     },
     "metadata": {},
     "output_type": "display_data"
    }
   ],
   "source": [
    "q2_res.sort_values(by=\"frequent_overtime(%)\", ascending=True).plot(\n",
    "    y=\"frequent_overtime(%)\", x=\"OrgSize\", kind=\"barh\", figsize=(7, 5)\n",
    ")"
   ]
  },
  {
   "cell_type": "code",
   "execution_count": 23,
   "id": "neutral-organ",
   "metadata": {},
   "outputs": [
    {
     "data": {
      "application/javascript": [
       "\n",
       "            setTimeout(function() {\n",
       "                var nbb_cell_id = 23;\n",
       "                var nbb_unformatted_code = \"# Q3 which country has highest frequent overtime percentage.\\ncountry = get_group_by_df(dev, \\\"Country\\\")\\ncountry_overtime = get_overtime_group_by_df(dev, \\\"Country\\\", frequent_overtime)\";\n",
       "                var nbb_formatted_code = \"# Q3 which country has highest frequent overtime percentage.\\ncountry = get_group_by_df(dev, \\\"Country\\\")\\ncountry_overtime = get_overtime_group_by_df(dev, \\\"Country\\\", frequent_overtime)\";\n",
       "                var nbb_cells = Jupyter.notebook.get_cells();\n",
       "                for (var i = 0; i < nbb_cells.length; ++i) {\n",
       "                    if (nbb_cells[i].input_prompt_number == nbb_cell_id) {\n",
       "                        if (nbb_cells[i].get_text() == nbb_unformatted_code) {\n",
       "                             nbb_cells[i].set_text(nbb_formatted_code);\n",
       "                        }\n",
       "                        break;\n",
       "                    }\n",
       "                }\n",
       "            }, 500);\n",
       "            "
      ],
      "text/plain": [
       "<IPython.core.display.Javascript object>"
      ]
     },
     "metadata": {},
     "output_type": "display_data"
    }
   ],
   "source": [
    "# Q3 which country has highest frequent overtime percentage.\n",
    "country = get_group_by_df(dev, \"Country\")\n",
    "country_overtime = get_overtime_group_by_df(dev, \"Country\", frequent_overtime)"
   ]
  },
  {
   "cell_type": "code",
   "execution_count": 24,
   "id": "increasing-equality",
   "metadata": {},
   "outputs": [
    {
     "name": "stderr",
     "output_type": "stream",
     "text": [
      "2:80: E501 line too long (84 > 79 characters)\n"
     ]
    },
    {
     "data": {
      "application/javascript": [
       "\n",
       "            setTimeout(function() {\n",
       "                var nbb_cell_id = 24;\n",
       "                var nbb_unformatted_code = \"q3_res = pd.merge(\\n    country_overtime, country, left_on=[\\\"Country\\\"], right_on=[\\\"Country\\\"], how=\\\"left\\\"\\n)\\nq3_res[\\\"frequent_overtime(%)\\\"] = (\\n    q3_res[\\\"freqeunt_overtime\\\"] / q3_res[\\\"NEWOvertime\\\"]\\n) * 100\";\n",
       "                var nbb_formatted_code = \"q3_res = pd.merge(\\n    country_overtime, country, left_on=[\\\"Country\\\"], right_on=[\\\"Country\\\"], how=\\\"left\\\"\\n)\\nq3_res[\\\"frequent_overtime(%)\\\"] = (\\n    q3_res[\\\"freqeunt_overtime\\\"] / q3_res[\\\"NEWOvertime\\\"]\\n) * 100\";\n",
       "                var nbb_cells = Jupyter.notebook.get_cells();\n",
       "                for (var i = 0; i < nbb_cells.length; ++i) {\n",
       "                    if (nbb_cells[i].input_prompt_number == nbb_cell_id) {\n",
       "                        if (nbb_cells[i].get_text() == nbb_unformatted_code) {\n",
       "                             nbb_cells[i].set_text(nbb_formatted_code);\n",
       "                        }\n",
       "                        break;\n",
       "                    }\n",
       "                }\n",
       "            }, 500);\n",
       "            "
      ],
      "text/plain": [
       "<IPython.core.display.Javascript object>"
      ]
     },
     "metadata": {},
     "output_type": "display_data"
    }
   ],
   "source": [
    "q3_res = pd.merge(\n",
    "    country_overtime, country, left_on=[\"Country\"], right_on=[\"Country\"], how=\"left\"\n",
    ")\n",
    "q3_res[\"frequent_overtime(%)\"] = (\n",
    "    q3_res[\"freqeunt_overtime\"] / q3_res[\"NEWOvertime\"]\n",
    ") * 100"
   ]
  },
  {
   "cell_type": "code",
   "execution_count": 25,
   "id": "optical-moldova",
   "metadata": {},
   "outputs": [
    {
     "data": {
      "application/javascript": [
       "\n",
       "            setTimeout(function() {\n",
       "                var nbb_cell_id = 25;\n",
       "                var nbb_unformatted_code = \"q3_res[\\\"frequent_overtime(%)\\\"] = (\\n    q3_res[\\\"freqeunt_overtime\\\"] / q3_res[\\\"NEWOvertime\\\"]\\n) * 100\";\n",
       "                var nbb_formatted_code = \"q3_res[\\\"frequent_overtime(%)\\\"] = (\\n    q3_res[\\\"freqeunt_overtime\\\"] / q3_res[\\\"NEWOvertime\\\"]\\n) * 100\";\n",
       "                var nbb_cells = Jupyter.notebook.get_cells();\n",
       "                for (var i = 0; i < nbb_cells.length; ++i) {\n",
       "                    if (nbb_cells[i].input_prompt_number == nbb_cell_id) {\n",
       "                        if (nbb_cells[i].get_text() == nbb_unformatted_code) {\n",
       "                             nbb_cells[i].set_text(nbb_formatted_code);\n",
       "                        }\n",
       "                        break;\n",
       "                    }\n",
       "                }\n",
       "            }, 500);\n",
       "            "
      ],
      "text/plain": [
       "<IPython.core.display.Javascript object>"
      ]
     },
     "metadata": {},
     "output_type": "display_data"
    }
   ],
   "source": [
    "q3_res[\"frequent_overtime(%)\"] = (\n",
    "    q3_res[\"freqeunt_overtime\"] / q3_res[\"NEWOvertime\"]\n",
    ") * 100"
   ]
  },
  {
   "cell_type": "code",
   "execution_count": 26,
   "id": "flexible-davis",
   "metadata": {},
   "outputs": [
    {
     "data": {
      "application/javascript": [
       "\n",
       "            setTimeout(function() {\n",
       "                var nbb_cell_id = 26;\n",
       "                var nbb_unformatted_code = \"q3_res = q3_res.sort_values(by=\\\"NEWOvertime\\\", ascending=False).head(10)\";\n",
       "                var nbb_formatted_code = \"q3_res = q3_res.sort_values(by=\\\"NEWOvertime\\\", ascending=False).head(10)\";\n",
       "                var nbb_cells = Jupyter.notebook.get_cells();\n",
       "                for (var i = 0; i < nbb_cells.length; ++i) {\n",
       "                    if (nbb_cells[i].input_prompt_number == nbb_cell_id) {\n",
       "                        if (nbb_cells[i].get_text() == nbb_unformatted_code) {\n",
       "                             nbb_cells[i].set_text(nbb_formatted_code);\n",
       "                        }\n",
       "                        break;\n",
       "                    }\n",
       "                }\n",
       "            }, 500);\n",
       "            "
      ],
      "text/plain": [
       "<IPython.core.display.Javascript object>"
      ]
     },
     "metadata": {},
     "output_type": "display_data"
    }
   ],
   "source": [
    "q3_res = q3_res.sort_values(by=\"NEWOvertime\", ascending=False).head(10)"
   ]
  },
  {
   "cell_type": "code",
   "execution_count": 27,
   "id": "ultimate-spokesman",
   "metadata": {},
   "outputs": [
    {
     "data": {
      "text/html": [
       "<div>\n",
       "<style scoped>\n",
       "    .dataframe tbody tr th:only-of-type {\n",
       "        vertical-align: middle;\n",
       "    }\n",
       "\n",
       "    .dataframe tbody tr th {\n",
       "        vertical-align: top;\n",
       "    }\n",
       "\n",
       "    .dataframe thead th {\n",
       "        text-align: right;\n",
       "    }\n",
       "</style>\n",
       "<table border=\"1\" class=\"dataframe\">\n",
       "  <thead>\n",
       "    <tr style=\"text-align: right;\">\n",
       "      <th></th>\n",
       "      <th>freqeunt_overtime</th>\n",
       "      <th>Country</th>\n",
       "      <th>NEWOvertime</th>\n",
       "      <th>frequent_overtime(%)</th>\n",
       "    </tr>\n",
       "  </thead>\n",
       "  <tbody>\n",
       "    <tr>\n",
       "      <th>1</th>\n",
       "      <td>1475</td>\n",
       "      <td>India</td>\n",
       "      <td>4323</td>\n",
       "      <td>34.119824</td>\n",
       "    </tr>\n",
       "    <tr>\n",
       "      <th>4</th>\n",
       "      <td>345</td>\n",
       "      <td>France</td>\n",
       "      <td>1195</td>\n",
       "      <td>28.870293</td>\n",
       "    </tr>\n",
       "    <tr>\n",
       "      <th>5</th>\n",
       "      <td>307</td>\n",
       "      <td>Brazil</td>\n",
       "      <td>1168</td>\n",
       "      <td>26.284247</td>\n",
       "    </tr>\n",
       "    <tr>\n",
       "      <th>2</th>\n",
       "      <td>627</td>\n",
       "      <td>Germany</td>\n",
       "      <td>2498</td>\n",
       "      <td>25.100080</td>\n",
       "    </tr>\n",
       "    <tr>\n",
       "      <th>8</th>\n",
       "      <td>196</td>\n",
       "      <td>Australia</td>\n",
       "      <td>824</td>\n",
       "      <td>23.786408</td>\n",
       "    </tr>\n",
       "    <tr>\n",
       "      <th>0</th>\n",
       "      <td>1744</td>\n",
       "      <td>United States</td>\n",
       "      <td>8375</td>\n",
       "      <td>20.823881</td>\n",
       "    </tr>\n",
       "    <tr>\n",
       "      <th>6</th>\n",
       "      <td>275</td>\n",
       "      <td>Canada</td>\n",
       "      <td>1411</td>\n",
       "      <td>19.489724</td>\n",
       "    </tr>\n",
       "    <tr>\n",
       "      <th>3</th>\n",
       "      <td>515</td>\n",
       "      <td>United Kingdom</td>\n",
       "      <td>2670</td>\n",
       "      <td>19.288390</td>\n",
       "    </tr>\n",
       "    <tr>\n",
       "      <th>12</th>\n",
       "      <td>145</td>\n",
       "      <td>Netherlands</td>\n",
       "      <td>881</td>\n",
       "      <td>16.458570</td>\n",
       "    </tr>\n",
       "    <tr>\n",
       "      <th>13</th>\n",
       "      <td>136</td>\n",
       "      <td>Poland</td>\n",
       "      <td>874</td>\n",
       "      <td>15.560641</td>\n",
       "    </tr>\n",
       "  </tbody>\n",
       "</table>\n",
       "</div>"
      ],
      "text/plain": [
       "    freqeunt_overtime         Country  NEWOvertime  frequent_overtime(%)\n",
       "1                1475           India         4323             34.119824\n",
       "4                 345          France         1195             28.870293\n",
       "5                 307          Brazil         1168             26.284247\n",
       "2                 627         Germany         2498             25.100080\n",
       "8                 196       Australia          824             23.786408\n",
       "0                1744   United States         8375             20.823881\n",
       "6                 275          Canada         1411             19.489724\n",
       "3                 515  United Kingdom         2670             19.288390\n",
       "12                145     Netherlands          881             16.458570\n",
       "13                136          Poland          874             15.560641"
      ]
     },
     "execution_count": 27,
     "metadata": {},
     "output_type": "execute_result"
    },
    {
     "data": {
      "application/javascript": [
       "\n",
       "            setTimeout(function() {\n",
       "                var nbb_cell_id = 27;\n",
       "                var nbb_unformatted_code = \"q3_res.sort_values(by=\\\"frequent_overtime(%)\\\", ascending=False)\";\n",
       "                var nbb_formatted_code = \"q3_res.sort_values(by=\\\"frequent_overtime(%)\\\", ascending=False)\";\n",
       "                var nbb_cells = Jupyter.notebook.get_cells();\n",
       "                for (var i = 0; i < nbb_cells.length; ++i) {\n",
       "                    if (nbb_cells[i].input_prompt_number == nbb_cell_id) {\n",
       "                        if (nbb_cells[i].get_text() == nbb_unformatted_code) {\n",
       "                             nbb_cells[i].set_text(nbb_formatted_code);\n",
       "                        }\n",
       "                        break;\n",
       "                    }\n",
       "                }\n",
       "            }, 500);\n",
       "            "
      ],
      "text/plain": [
       "<IPython.core.display.Javascript object>"
      ]
     },
     "metadata": {},
     "output_type": "display_data"
    }
   ],
   "source": [
    "q3_res.sort_values(by=\"frequent_overtime(%)\", ascending=False)"
   ]
  },
  {
   "cell_type": "code",
   "execution_count": 28,
   "id": "shaped-scoop",
   "metadata": {},
   "outputs": [
    {
     "data": {
      "text/plain": [
       "<AxesSubplot:ylabel='Country'>"
      ]
     },
     "execution_count": 28,
     "metadata": {},
     "output_type": "execute_result"
    },
    {
     "data": {
      "image/png": "[encoded data removed]",
      "text/plain": [
       "<Figure size 432x288 with 1 Axes>"
      ]
     },
     "metadata": {
      "needs_background": "light"
     },
     "output_type": "display_data"
    },
    {
     "data": {
      "application/javascript": [
       "\n",
       "            setTimeout(function() {\n",
       "                var nbb_cell_id = 28;\n",
       "                var nbb_unformatted_code = \"q3_res.sort_values(by=\\\"frequent_overtime(%)\\\", ascending=True).plot(\\n    y=\\\"frequent_overtime(%)\\\", x=\\\"Country\\\", kind=\\\"barh\\\"\\n)\";\n",
       "                var nbb_formatted_code = \"q3_res.sort_values(by=\\\"frequent_overtime(%)\\\", ascending=True).plot(\\n    y=\\\"frequent_overtime(%)\\\", x=\\\"Country\\\", kind=\\\"barh\\\"\\n)\";\n",
       "                var nbb_cells = Jupyter.notebook.get_cells();\n",
       "                for (var i = 0; i < nbb_cells.length; ++i) {\n",
       "                    if (nbb_cells[i].input_prompt_number == nbb_cell_id) {\n",
       "                        if (nbb_cells[i].get_text() == nbb_unformatted_code) {\n",
       "                             nbb_cells[i].set_text(nbb_formatted_code);\n",
       "                        }\n",
       "                        break;\n",
       "                    }\n",
       "                }\n",
       "            }, 500);\n",
       "            "
      ],
      "text/plain": [
       "<IPython.core.display.Javascript object>"
      ]
     },
     "metadata": {},
     "output_type": "display_data"
    }
   ],
   "source": [
    "q3_res.sort_values(by=\"frequent_overtime(%)\", ascending=True).plot(\n",
    "    y=\"frequent_overtime(%)\", x=\"Country\", kind=\"barh\"\n",
    ")"
   ]
  },
  {
   "cell_type": "code",
   "execution_count": null,
   "id": "animal-pantyhose",
   "metadata": {},
   "outputs": [],
   "source": []
  }
 ],
 "metadata": {
  "kernelspec": {
   "display_name": "Python 3",
   "language": "python",
   "name": "python3"
  },
  "language_info": {
   "codemirror_mode": {
    "name": "ipython",
    "version": 3
   },
   "file_extension": ".py",
   "mimetype": "text/x-python",
   "name": "python",
   "nbconvert_exporter": "python",
   "pygments_lexer": "ipython3",
   "version": "3.8.5"
  }
 },
 "nbformat": 4,
 "nbformat_minor": 5
}
